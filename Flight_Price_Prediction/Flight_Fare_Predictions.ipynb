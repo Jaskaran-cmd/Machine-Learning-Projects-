{
 "cells": [
  {
   "cell_type": "markdown",
   "id": "6a3e47b1",
   "metadata": {},
   "source": [
    "# Hey There Welcome to my kernal!!!!!\n",
    "* Enjoy the visualizations process as I walk you through My Notebook"
   ]
  },
  {
   "cell_type": "code",
   "execution_count": 95,
   "id": "04b3d25a",
   "metadata": {},
   "outputs": [],
   "source": [
    "#Importing The required Libraries \n",
    "import os\n",
    "import pandas as pd \n",
    "import sklearn\n",
    "import numpy as np\n",
    "import matplotlib.pyplot as plt\n",
    "%matplotlib inline \n",
    "import seaborn as sns\n",
    "import scipy.stats as stats\n",
    "from  sklearn.preprocessing import StandardScaler\n",
    "from sklearn.model_selection import KFold,train_test_split,RandomizedSearchCV,GridSearchCV,GroupKFold\n",
    "from sklearn.ensemble import RandomForestRegressor\n",
    "from sklearn.metrics import r2_score,mean_absolute_error,mean_squared_error\n",
    "from xgboost import XGBRegressor\n"
   ]
  },
  {
   "cell_type": "code",
   "execution_count": 3,
   "id": "683b8308",
   "metadata": {},
   "outputs": [],
   "source": [
    "#Importing the Dataset \n",
    "train_data=pd.read_excel(\"Data_Train.xlsx\")\n",
    "test_data=pd.read_excel(\"Test_set.xlsx\")"
   ]
  },
  {
   "cell_type": "code",
   "execution_count": 4,
   "id": "4c9a0d42",
   "metadata": {},
   "outputs": [
    {
     "name": "stdout",
     "output_type": "stream",
     "text": [
      "Train data info\n",
      "<class 'pandas.core.frame.DataFrame'>\n",
      "RangeIndex: 10683 entries, 0 to 10682\n",
      "Data columns (total 11 columns):\n",
      " #   Column           Non-Null Count  Dtype \n",
      "---  ------           --------------  ----- \n",
      " 0   Airline          10683 non-null  object\n",
      " 1   Date_of_Journey  10683 non-null  object\n",
      " 2   Source           10683 non-null  object\n",
      " 3   Destination      10683 non-null  object\n",
      " 4   Route            10682 non-null  object\n",
      " 5   Dep_Time         10683 non-null  object\n",
      " 6   Arrival_Time     10683 non-null  object\n",
      " 7   Duration         10683 non-null  object\n",
      " 8   Total_Stops      10682 non-null  object\n",
      " 9   Additional_Info  10683 non-null  object\n",
      " 10  Price            10683 non-null  int64 \n",
      "dtypes: int64(1), object(10)\n",
      "memory usage: 918.2+ KB\n",
      "None\n",
      "\n",
      "=======================================================================================\n",
      "Test data info\n",
      "\n",
      "<class 'pandas.core.frame.DataFrame'>\n",
      "RangeIndex: 2671 entries, 0 to 2670\n",
      "Data columns (total 10 columns):\n",
      " #   Column           Non-Null Count  Dtype \n",
      "---  ------           --------------  ----- \n",
      " 0   Airline          2671 non-null   object\n",
      " 1   Date_of_Journey  2671 non-null   object\n",
      " 2   Source           2671 non-null   object\n",
      " 3   Destination      2671 non-null   object\n",
      " 4   Route            2671 non-null   object\n",
      " 5   Dep_Time         2671 non-null   object\n",
      " 6   Arrival_Time     2671 non-null   object\n",
      " 7   Duration         2671 non-null   object\n",
      " 8   Total_Stops      2671 non-null   object\n",
      " 9   Additional_Info  2671 non-null   object\n",
      "dtypes: object(10)\n",
      "memory usage: 208.8+ KB\n",
      "None\n"
     ]
    }
   ],
   "source": [
    "print(\"Train data info\")\n",
    "print(train_data.info())\n",
    "print()\n",
    "print(\"=======================================================================================\")\n",
    "print(\"Test data info\")\n",
    "print()\n",
    "print(test_data.info())"
   ]
  },
  {
   "cell_type": "code",
   "execution_count": 5,
   "id": "ea0d2033",
   "metadata": {},
   "outputs": [
    {
     "data": {
      "text/html": [
       "<div>\n",
       "<style scoped>\n",
       "    .dataframe tbody tr th:only-of-type {\n",
       "        vertical-align: middle;\n",
       "    }\n",
       "\n",
       "    .dataframe tbody tr th {\n",
       "        vertical-align: top;\n",
       "    }\n",
       "\n",
       "    .dataframe thead th {\n",
       "        text-align: right;\n",
       "    }\n",
       "</style>\n",
       "<table border=\"1\" class=\"dataframe\">\n",
       "  <thead>\n",
       "    <tr style=\"text-align: right;\">\n",
       "      <th></th>\n",
       "      <th>Airline</th>\n",
       "      <th>Date_of_Journey</th>\n",
       "      <th>Source</th>\n",
       "      <th>Destination</th>\n",
       "      <th>Route</th>\n",
       "      <th>Dep_Time</th>\n",
       "      <th>Arrival_Time</th>\n",
       "      <th>Duration</th>\n",
       "      <th>Total_Stops</th>\n",
       "      <th>Additional_Info</th>\n",
       "      <th>Price</th>\n",
       "    </tr>\n",
       "  </thead>\n",
       "  <tbody>\n",
       "    <tr>\n",
       "      <th>0</th>\n",
       "      <td>IndiGo</td>\n",
       "      <td>24/03/2019</td>\n",
       "      <td>Banglore</td>\n",
       "      <td>New Delhi</td>\n",
       "      <td>BLR → DEL</td>\n",
       "      <td>22:20</td>\n",
       "      <td>01:10 22 Mar</td>\n",
       "      <td>2h 50m</td>\n",
       "      <td>non-stop</td>\n",
       "      <td>No info</td>\n",
       "      <td>3897</td>\n",
       "    </tr>\n",
       "    <tr>\n",
       "      <th>1</th>\n",
       "      <td>Air India</td>\n",
       "      <td>1/05/2019</td>\n",
       "      <td>Kolkata</td>\n",
       "      <td>Banglore</td>\n",
       "      <td>CCU → IXR → BBI → BLR</td>\n",
       "      <td>05:50</td>\n",
       "      <td>13:15</td>\n",
       "      <td>7h 25m</td>\n",
       "      <td>2 stops</td>\n",
       "      <td>No info</td>\n",
       "      <td>7662</td>\n",
       "    </tr>\n",
       "    <tr>\n",
       "      <th>2</th>\n",
       "      <td>Jet Airways</td>\n",
       "      <td>9/06/2019</td>\n",
       "      <td>Delhi</td>\n",
       "      <td>Cochin</td>\n",
       "      <td>DEL → LKO → BOM → COK</td>\n",
       "      <td>09:25</td>\n",
       "      <td>04:25 10 Jun</td>\n",
       "      <td>19h</td>\n",
       "      <td>2 stops</td>\n",
       "      <td>No info</td>\n",
       "      <td>13882</td>\n",
       "    </tr>\n",
       "    <tr>\n",
       "      <th>3</th>\n",
       "      <td>IndiGo</td>\n",
       "      <td>12/05/2019</td>\n",
       "      <td>Kolkata</td>\n",
       "      <td>Banglore</td>\n",
       "      <td>CCU → NAG → BLR</td>\n",
       "      <td>18:05</td>\n",
       "      <td>23:30</td>\n",
       "      <td>5h 25m</td>\n",
       "      <td>1 stop</td>\n",
       "      <td>No info</td>\n",
       "      <td>6218</td>\n",
       "    </tr>\n",
       "    <tr>\n",
       "      <th>4</th>\n",
       "      <td>IndiGo</td>\n",
       "      <td>01/03/2019</td>\n",
       "      <td>Banglore</td>\n",
       "      <td>New Delhi</td>\n",
       "      <td>BLR → NAG → DEL</td>\n",
       "      <td>16:50</td>\n",
       "      <td>21:35</td>\n",
       "      <td>4h 45m</td>\n",
       "      <td>1 stop</td>\n",
       "      <td>No info</td>\n",
       "      <td>13302</td>\n",
       "    </tr>\n",
       "  </tbody>\n",
       "</table>\n",
       "</div>"
      ],
      "text/plain": [
       "       Airline Date_of_Journey    Source Destination                  Route  \\\n",
       "0       IndiGo      24/03/2019  Banglore   New Delhi              BLR → DEL   \n",
       "1    Air India       1/05/2019   Kolkata    Banglore  CCU → IXR → BBI → BLR   \n",
       "2  Jet Airways       9/06/2019     Delhi      Cochin  DEL → LKO → BOM → COK   \n",
       "3       IndiGo      12/05/2019   Kolkata    Banglore        CCU → NAG → BLR   \n",
       "4       IndiGo      01/03/2019  Banglore   New Delhi        BLR → NAG → DEL   \n",
       "\n",
       "  Dep_Time  Arrival_Time Duration Total_Stops Additional_Info  Price  \n",
       "0    22:20  01:10 22 Mar   2h 50m    non-stop         No info   3897  \n",
       "1    05:50         13:15   7h 25m     2 stops         No info   7662  \n",
       "2    09:25  04:25 10 Jun      19h     2 stops         No info  13882  \n",
       "3    18:05         23:30   5h 25m      1 stop         No info   6218  \n",
       "4    16:50         21:35   4h 45m      1 stop         No info  13302  "
      ]
     },
     "execution_count": 5,
     "metadata": {},
     "output_type": "execute_result"
    }
   ],
   "source": [
    "#Lets have a look at teh dataset\n",
    "train_data.head()"
   ]
  },
  {
   "cell_type": "code",
   "execution_count": 6,
   "id": "b79ea1ce",
   "metadata": {
    "scrolled": true
   },
   "outputs": [
    {
     "data": {
      "text/plain": [
       "Jet Airways                          3849\n",
       "IndiGo                               2053\n",
       "Air India                            1752\n",
       "Multiple carriers                    1196\n",
       "SpiceJet                              818\n",
       "Vistara                               479\n",
       "Air Asia                              319\n",
       "GoAir                                 194\n",
       "Multiple carriers Premium economy      13\n",
       "Jet Airways Business                    6\n",
       "Vistara Premium economy                 3\n",
       "Trujet                                  1\n",
       "Name: Airline, dtype: int64"
      ]
     },
     "execution_count": 6,
     "metadata": {},
     "output_type": "execute_result"
    }
   ],
   "source": [
    "#Now We will have a look at each variable one by one \n",
    "#Airline Variable \n",
    "train_data.Airline.value_counts()"
   ]
  },
  {
   "cell_type": "markdown",
   "id": "ba5e6e8c",
   "metadata": {},
   "source": [
    "**As we Can Observe There are very Less values for Trujet,Vistara Premium economy,Jet Airways Business and Multiple carriers Premium economy\n",
    "We will drop these unique values as Our model wouldnt generalize well on these datapoints**"
   ]
  },
  {
   "cell_type": "code",
   "execution_count": 7,
   "id": "d0e5c555",
   "metadata": {},
   "outputs": [],
   "source": [
    "train_data.drop(train_data[(train_data.Airline==\"Multiple carriers Premium economy\") | (train_data.Airline==\"Jet Airways Business\") | \n",
    "           (train_data.Airline==\"Vistara Premium economy\") | (train_data.Airline==\"Trujet\")].index,inplace=True)\n",
    "test_data.drop(test_data[(test_data.Airline==\"Multiple carriers Premium economy\") | (test_data.Airline==\"Jet Airways Business\") | \n",
    "           (test_data.Airline==\"Vistara Premium economy\") | (test_data.Airline==\"Trujet\")].index,inplace=True)"
   ]
  },
  {
   "cell_type": "code",
   "execution_count": 8,
   "id": "59bc094d",
   "metadata": {},
   "outputs": [
    {
     "data": {
      "text/plain": [
       "Jet Airways          3849\n",
       "IndiGo               2053\n",
       "Air India            1752\n",
       "Multiple carriers    1196\n",
       "SpiceJet              818\n",
       "Vistara               479\n",
       "Air Asia              319\n",
       "GoAir                 194\n",
       "Name: Airline, dtype: int64"
      ]
     },
     "execution_count": 8,
     "metadata": {},
     "output_type": "execute_result"
    }
   ],
   "source": [
    "train_data.Airline.value_counts()"
   ]
  },
  {
   "cell_type": "markdown",
   "id": "1671871f",
   "metadata": {},
   "source": [
    "Bamm!!"
   ]
  },
  {
   "cell_type": "code",
   "execution_count": 9,
   "id": "d8366f04",
   "metadata": {},
   "outputs": [
    {
     "name": "stderr",
     "output_type": "stream",
     "text": [
      "C:\\Users\\Jaskaran singh sohal\\anaconda3\\lib\\site-packages\\seaborn\\_decorators.py:36: FutureWarning: Pass the following variable as a keyword arg: x. From version 0.12, the only valid positional argument will be `data`, and passing other arguments without an explicit keyword will result in an error or misinterpretation.\n",
      "  warnings.warn(\n"
     ]
    },
    {
     "data": {
      "text/plain": [
       "<AxesSubplot:xlabel='Airline', ylabel='count'>"
      ]
     },
     "execution_count": 9,
     "metadata": {},
     "output_type": "execute_result"
    },
    {
     "data": {
      "image/png": "[encoded data removed]",
      "text/plain": [
       "<Figure size 864x720 with 1 Axes>"
      ]
     },
     "metadata": {
      "needs_background": "light"
     },
     "output_type": "display_data"
    }
   ],
   "source": [
    "plt.figure(figsize=(12,10))\n",
    "sns.countplot(train_data.Airline)"
   ]
  },
  {
   "cell_type": "code",
   "execution_count": 10,
   "id": "cd441629",
   "metadata": {},
   "outputs": [
    {
     "name": "stderr",
     "output_type": "stream",
     "text": [
      "C:\\Users\\Jaskaran singh sohal\\anaconda3\\lib\\site-packages\\seaborn\\_decorators.py:36: FutureWarning: Pass the following variables as keyword args: x, y. From version 0.12, the only valid positional argument will be `data`, and passing other arguments without an explicit keyword will result in an error or misinterpretation.\n",
      "  warnings.warn(\n"
     ]
    },
    {
     "data": {
      "text/plain": [
       "<AxesSubplot:xlabel='Airline', ylabel='Price'>"
      ]
     },
     "execution_count": 10,
     "metadata": {},
     "output_type": "execute_result"
    },
    {
     "data": {
      "image/png": "[encoded data removed]",
      "text/plain": [
       "<Figure size 864x720 with 1 Axes>"
      ]
     },
     "metadata": {
      "needs_background": "light"
     },
     "output_type": "display_data"
    }
   ],
   "source": [
    "#Now we will look at the relation between categorical and Price using bar plot \n",
    "plt.figure(figsize=(12,10))\n",
    "sns.barplot(train_data.Airline,train_data.Price)\n"
   ]
  },
  {
   "cell_type": "code",
   "execution_count": 11,
   "id": "2f847096",
   "metadata": {},
   "outputs": [
    {
     "name": "stdout",
     "output_type": "stream",
     "text": [
      "IndiGo , Air India:                          p_value = 0.0000 t_value = -38.7261               Ha_accepted: True \n",
      "IndiGo , Jet Airways:                          p_value = 0.0000 t_value = -59.2085               Ha_accepted: True \n",
      "IndiGo , SpiceJet:                          p_value = 0.0000 t_value = 14.9919               Ha_accepted: True \n",
      "IndiGo , Multiple carriers:                          p_value = 0.0000 t_value = -49.7879               Ha_accepted: True \n",
      "IndiGo   , GoAir:                          p_value = 0.2793 t_value = -1.0822              Ha_accepted: False \n",
      "IndiGo , Vistara:                          p_value = 0.0000 t_value = -17.4264               Ha_accepted: True \n",
      "IndiGo   , Air Asia:                          p_value = 0.5350 t_value = 0.6205              Ha_accepted: False \n",
      "Air India , IndiGo:                          p_value = 0.0000 t_value = 38.7261               Ha_accepted: True \n",
      "Air India , Jet Airways:                          p_value = 0.0000 t_value = -16.9943               Ha_accepted: True \n",
      "Air India , SpiceJet:                          p_value = 0.0000 t_value = 36.7744               Ha_accepted: True \n",
      "Air India , Multiple carriers:                          p_value = 0.0000 t_value = -8.9921               Ha_accepted: True \n",
      "Air India , GoAir:                          p_value = 0.0000 t_value = 13.0460               Ha_accepted: True \n",
      "Air India , Vistara:                          p_value = 0.0000 t_value = 9.4837               Ha_accepted: True \n",
      "Air India , Air Asia:                          p_value = 0.0000 t_value = 17.9709               Ha_accepted: True \n",
      "Jet Airways , IndiGo:                          p_value = 0.0000 t_value = 59.2085               Ha_accepted: True \n",
      "Jet Airways , Air India:                          p_value = 0.0000 t_value = 16.9943               Ha_accepted: True \n",
      "Jet Airways , SpiceJet:                          p_value = 0.0000 t_value = 48.1025               Ha_accepted: True \n",
      "Jet Airways , Multiple carriers:                          p_value = 0.0000 t_value = 5.4112               Ha_accepted: True \n",
      "Jet Airways , GoAir:                          p_value = 0.0000 t_value = 18.7217               Ha_accepted: True \n",
      "Jet Airways , Vistara:                          p_value = 0.0000 t_value = 19.2191               Ha_accepted: True \n",
      "Jet Airways , Air Asia:                          p_value = 0.0000 t_value = 25.1499               Ha_accepted: True \n",
      "SpiceJet , IndiGo:                          p_value = 0.0000 t_value = -14.9919               Ha_accepted: True \n",
      "SpiceJet , Air India:                          p_value = 0.0000 t_value = -36.7744               Ha_accepted: True \n",
      "SpiceJet , Jet Airways:                          p_value = 0.0000 t_value = -48.1025               Ha_accepted: True \n",
      "SpiceJet , Multiple carriers:                          p_value = 0.0000 t_value = -46.6606               Ha_accepted: True \n",
      "SpiceJet , GoAir:                          p_value = 0.0000 t_value = -9.3436               Ha_accepted: True \n",
      "SpiceJet , Vistara:                          p_value = 0.0000 t_value = -26.1227               Ha_accepted: True \n",
      "SpiceJet , Air Asia:                          p_value = 0.0000 t_value = -9.9755               Ha_accepted: True \n",
      "Multiple carriers , IndiGo:                          p_value = 0.0000 t_value = 49.7879               Ha_accepted: True \n",
      "Multiple carriers , Air India:                          p_value = 0.0000 t_value = 8.9921               Ha_accepted: True \n",
      "Multiple carriers , Jet Airways:                          p_value = 0.0000 t_value = -5.4112               Ha_accepted: True \n",
      "Multiple carriers , SpiceJet:                          p_value = 0.0000 t_value = 46.6606               Ha_accepted: True \n",
      "Multiple carriers , GoAir:                          p_value = 0.0000 t_value = 18.1087               Ha_accepted: True \n",
      "Multiple carriers , Vistara:                          p_value = 0.0000 t_value = 16.3685               Ha_accepted: True \n",
      "Multiple carriers , Air Asia:                          p_value = 0.0000 t_value = 24.5407               Ha_accepted: True \n",
      "GoAir   , IndiGo:                          p_value = 0.2793 t_value = 1.0822              Ha_accepted: False \n",
      "GoAir , Air India:                          p_value = 0.0000 t_value = -13.0460               Ha_accepted: True \n",
      "GoAir , Jet Airways:                          p_value = 0.0000 t_value = -18.7217               Ha_accepted: True \n",
      "GoAir , SpiceJet:                          p_value = 0.0000 t_value = 9.3436               Ha_accepted: True \n",
      "GoAir , Multiple carriers:                          p_value = 0.0000 t_value = -18.1087               Ha_accepted: True \n",
      "GoAir , Vistara:                          p_value = 0.0000 t_value = -7.9645               Ha_accepted: True \n",
      "GoAir   , Air Asia:                          p_value = 0.1977 t_value = 1.2897              Ha_accepted: False \n",
      "Vistara , IndiGo:                          p_value = 0.0000 t_value = 17.4264               Ha_accepted: True \n",
      "Vistara , Air India:                          p_value = 0.0000 t_value = -9.4837               Ha_accepted: True \n",
      "Vistara , Jet Airways:                          p_value = 0.0000 t_value = -19.2191               Ha_accepted: True \n",
      "Vistara , SpiceJet:                          p_value = 0.0000 t_value = 26.1227               Ha_accepted: True \n",
      "Vistara , Multiple carriers:                          p_value = 0.0000 t_value = -16.3685               Ha_accepted: True \n",
      "Vistara , GoAir:                          p_value = 0.0000 t_value = 7.9645               Ha_accepted: True \n",
      "Vistara , Air Asia:                          p_value = 0.0000 t_value = 11.7567               Ha_accepted: True \n",
      "Air Asia   , IndiGo:                          p_value = 0.5350 t_value = -0.6205              Ha_accepted: False \n",
      "Air Asia , Air India:                          p_value = 0.0000 t_value = -17.9709               Ha_accepted: True \n",
      "Air Asia , Jet Airways:                          p_value = 0.0000 t_value = -25.1499               Ha_accepted: True \n",
      "Air Asia , SpiceJet:                          p_value = 0.0000 t_value = 9.9755               Ha_accepted: True \n",
      "Air Asia , Multiple carriers:                          p_value = 0.0000 t_value = -24.5407               Ha_accepted: True \n",
      "Air Asia   , GoAir:                          p_value = 0.1977 t_value = -1.2897              Ha_accepted: False \n",
      "Air Asia , Vistara:                          p_value = 0.0000 t_value = -11.7567               Ha_accepted: True \n"
     ]
    }
   ],
   "source": [
    "# Now we will perform anova test \n",
    "\"\"\"\n",
    "As we can Observe from the above feature that Indigo,GoAir,Air Asia is having almost the same mean\n",
    "just so as to prove mathematically we will perform ANOVA Test\n",
    "\n",
    "\"\"\"\n",
    "Ha_rejected_list=[]\n",
    "Airlines=train_data.Airline.unique()\n",
    "for i,a in enumerate(Airlines):\n",
    "    for i,b in enumerate(Airlines):\n",
    "        if a!=b:\n",
    "            \n",
    "            g1=train_data[train_data.Airline==a][\"Price\"]\n",
    "            g2=train_data[train_data.Airline==b][\"Price\"]\n",
    "            t,p=stats.ttest_ind(g1,g2)\n",
    "        \n",
    "            if p<0.05: #Null hypothesis significant value 0.05\n",
    "                \n",
    "                \n",
    "                print(f\"{a} , {b}:                          p_value = {p:.4f} t_value = {t:.4f}               Ha_accepted: True \")\n",
    "        \n",
    "        \n",
    "            else:\n",
    "                print(f\"{a}   , {b}:                          p_value = {p:.4f} t_value = {t:.4f}              Ha_accepted: False \")\n",
    "                Ha_rejected_list.append([a,b])\n",
    "\n",
    "\n",
    "\n",
    "        "
   ]
  },
  {
   "cell_type": "code",
   "execution_count": 12,
   "id": "5f2ced94",
   "metadata": {},
   "outputs": [
    {
     "data": {
      "text/plain": [
       "[['IndiGo', 'GoAir'],\n",
       " ['IndiGo', 'Air Asia'],\n",
       " ['GoAir', 'IndiGo'],\n",
       " ['GoAir', 'Air Asia'],\n",
       " ['Air Asia', 'IndiGo'],\n",
       " ['Air Asia', 'GoAir']]"
      ]
     },
     "execution_count": 12,
     "metadata": {},
     "output_type": "execute_result"
    }
   ],
   "source": [
    "Ha_rejected_list"
   ]
  },
  {
   "cell_type": "code",
   "execution_count": 13,
   "id": "1b8169d6",
   "metadata": {},
   "outputs": [],
   "source": [
    "#So it proves Our asumption that the Indigo ,GoAir,Air Asia is having almost the same mean i.e we accepted the null hypothesis tht the means are equal\n",
    "# Now we will Assign these group name a similar  name \n",
    "def Airline_mapper(f):\n",
    "    if f in ['IndiGo','GoAir','Air Asia']:\n",
    "        return 'IGA'  #I indicates Indigo ,G indicates GoAir and A in indicates Air Asia and we have IGA!!!! Bammmm\n",
    "    else :\n",
    "        return f\n",
    "train_data['Airline']=train_data['Airline'].apply(Airline_mapper)\n",
    "test_data['Airline']=test_data['Airline'].apply(Airline_mapper)\n"
   ]
  },
  {
   "cell_type": "code",
   "execution_count": 14,
   "id": "b96087a9",
   "metadata": {},
   "outputs": [
    {
     "data": {
      "text/plain": [
       "(Jet Airways          3849\n",
       " IGA                  2566\n",
       " Air India            1752\n",
       " Multiple carriers    1196\n",
       " SpiceJet              818\n",
       " Vistara               479\n",
       " Name: Airline, dtype: int64,\n",
       " Jet Airways          897\n",
       " IGA                  643\n",
       " Air India            440\n",
       " Multiple carriers    347\n",
       " SpiceJet             208\n",
       " Vistara              129\n",
       " Name: Airline, dtype: int64)"
      ]
     },
     "execution_count": 14,
     "metadata": {},
     "output_type": "execute_result"
    }
   ],
   "source": [
    "train_data['Airline'].value_counts(),test_data['Airline'].value_counts()"
   ]
  },
  {
   "cell_type": "code",
   "execution_count": 15,
   "id": "55f75f39",
   "metadata": {},
   "outputs": [
    {
     "name": "stdout",
     "output_type": "stream",
     "text": [
      "<class 'pandas.core.frame.DataFrame'>\n",
      "Int64Index: 10660 entries, 0 to 10682\n",
      "Data columns (total 11 columns):\n",
      " #   Column           Non-Null Count  Dtype \n",
      "---  ------           --------------  ----- \n",
      " 0   Airline          10660 non-null  object\n",
      " 1   Date_of_Journey  10660 non-null  object\n",
      " 2   Source           10660 non-null  object\n",
      " 3   Destination      10660 non-null  object\n",
      " 4   Route            10659 non-null  object\n",
      " 5   Dep_Time         10660 non-null  object\n",
      " 6   Arrival_Time     10660 non-null  object\n",
      " 7   Duration         10660 non-null  object\n",
      " 8   Total_Stops      10659 non-null  object\n",
      " 9   Additional_Info  10660 non-null  object\n",
      " 10  Price            10660 non-null  int64 \n",
      "dtypes: int64(1), object(10)\n",
      "memory usage: 1.2+ MB\n"
     ]
    }
   ],
   "source": [
    "train_data.info()"
   ]
  },
  {
   "cell_type": "code",
   "execution_count": 16,
   "id": "731388e1",
   "metadata": {},
   "outputs": [
    {
     "name": "stdout",
     "output_type": "stream",
     "text": [
      "<class 'pandas.core.frame.DataFrame'>\n",
      "Int64Index: 10660 entries, 0 to 10682\n",
      "Data columns (total 11 columns):\n",
      " #   Column           Non-Null Count  Dtype         \n",
      "---  ------           --------------  -----         \n",
      " 0   Airline          10660 non-null  object        \n",
      " 1   Date_of_Journey  10660 non-null  datetime64[ns]\n",
      " 2   Source           10660 non-null  object        \n",
      " 3   Destination      10660 non-null  object        \n",
      " 4   Route            10659 non-null  object        \n",
      " 5   Dep_Time         10660 non-null  object        \n",
      " 6   Arrival_Time     10660 non-null  object        \n",
      " 7   Duration         10660 non-null  object        \n",
      " 8   Total_Stops      10659 non-null  object        \n",
      " 9   Additional_Info  10660 non-null  object        \n",
      " 10  Price            10660 non-null  int64         \n",
      "dtypes: datetime64[ns](1), int64(1), object(9)\n",
      "memory usage: 1.2+ MB\n"
     ]
    }
   ],
   "source": [
    "#Now comes the Date of Journey \n",
    "#First thing we need to do is to convert to date time format \n",
    "train_data['Date_of_Journey']=pd.to_datetime(train_data['Date_of_Journey'],infer_datetime_format=True)\n",
    "test_data['Date_of_Journey']=pd.to_datetime(train_data['Date_of_Journey'],infer_datetime_format=True)\n",
    "train_data.info()"
   ]
  },
  {
   "cell_type": "code",
   "execution_count": 17,
   "id": "eb4b05c4",
   "metadata": {},
   "outputs": [],
   "source": [
    "#train_data\n",
    "train_data['Dom']=train_data['Date_of_Journey'].dt.day    #Dates of Months\n",
    "train_data['moy']=train_data['Date_of_Journey'].dt.month  #Months of year\n",
    "train_data['year']=train_data['Date_of_Journey'].dt.year  #Year\n",
    "#Test Data\n",
    "test_data['Dom']=test_data['Date_of_Journey'].dt.day      #''''''\n",
    "test_data['moy']=test_data['Date_of_Journey'].dt.month    #''''''\n",
    "test_data['year']=test_data['Date_of_Journey'].dt.year    #''''''"
   ]
  },
  {
   "cell_type": "code",
   "execution_count": 18,
   "id": "bce7f50c",
   "metadata": {},
   "outputs": [
    {
     "data": {
      "text/html": [
       "<div>\n",
       "<style scoped>\n",
       "    .dataframe tbody tr th:only-of-type {\n",
       "        vertical-align: middle;\n",
       "    }\n",
       "\n",
       "    .dataframe tbody tr th {\n",
       "        vertical-align: top;\n",
       "    }\n",
       "\n",
       "    .dataframe thead th {\n",
       "        text-align: right;\n",
       "    }\n",
       "</style>\n",
       "<table border=\"1\" class=\"dataframe\">\n",
       "  <thead>\n",
       "    <tr style=\"text-align: right;\">\n",
       "      <th></th>\n",
       "      <th>Airline</th>\n",
       "      <th>Date_of_Journey</th>\n",
       "      <th>Source</th>\n",
       "      <th>Destination</th>\n",
       "      <th>Route</th>\n",
       "      <th>Dep_Time</th>\n",
       "      <th>Arrival_Time</th>\n",
       "      <th>Duration</th>\n",
       "      <th>Total_Stops</th>\n",
       "      <th>Additional_Info</th>\n",
       "      <th>Price</th>\n",
       "      <th>Dom</th>\n",
       "      <th>moy</th>\n",
       "      <th>year</th>\n",
       "    </tr>\n",
       "  </thead>\n",
       "  <tbody>\n",
       "    <tr>\n",
       "      <th>0</th>\n",
       "      <td>IGA</td>\n",
       "      <td>2019-03-24</td>\n",
       "      <td>Banglore</td>\n",
       "      <td>New Delhi</td>\n",
       "      <td>BLR → DEL</td>\n",
       "      <td>22:20</td>\n",
       "      <td>01:10 22 Mar</td>\n",
       "      <td>2h 50m</td>\n",
       "      <td>non-stop</td>\n",
       "      <td>No info</td>\n",
       "      <td>3897</td>\n",
       "      <td>24</td>\n",
       "      <td>3</td>\n",
       "      <td>2019</td>\n",
       "    </tr>\n",
       "    <tr>\n",
       "      <th>1</th>\n",
       "      <td>Air India</td>\n",
       "      <td>2019-05-01</td>\n",
       "      <td>Kolkata</td>\n",
       "      <td>Banglore</td>\n",
       "      <td>CCU → IXR → BBI → BLR</td>\n",
       "      <td>05:50</td>\n",
       "      <td>13:15</td>\n",
       "      <td>7h 25m</td>\n",
       "      <td>2 stops</td>\n",
       "      <td>No info</td>\n",
       "      <td>7662</td>\n",
       "      <td>1</td>\n",
       "      <td>5</td>\n",
       "      <td>2019</td>\n",
       "    </tr>\n",
       "    <tr>\n",
       "      <th>2</th>\n",
       "      <td>Jet Airways</td>\n",
       "      <td>2019-06-09</td>\n",
       "      <td>Delhi</td>\n",
       "      <td>Cochin</td>\n",
       "      <td>DEL → LKO → BOM → COK</td>\n",
       "      <td>09:25</td>\n",
       "      <td>04:25 10 Jun</td>\n",
       "      <td>19h</td>\n",
       "      <td>2 stops</td>\n",
       "      <td>No info</td>\n",
       "      <td>13882</td>\n",
       "      <td>9</td>\n",
       "      <td>6</td>\n",
       "      <td>2019</td>\n",
       "    </tr>\n",
       "    <tr>\n",
       "      <th>3</th>\n",
       "      <td>IGA</td>\n",
       "      <td>2019-05-12</td>\n",
       "      <td>Kolkata</td>\n",
       "      <td>Banglore</td>\n",
       "      <td>CCU → NAG → BLR</td>\n",
       "      <td>18:05</td>\n",
       "      <td>23:30</td>\n",
       "      <td>5h 25m</td>\n",
       "      <td>1 stop</td>\n",
       "      <td>No info</td>\n",
       "      <td>6218</td>\n",
       "      <td>12</td>\n",
       "      <td>5</td>\n",
       "      <td>2019</td>\n",
       "    </tr>\n",
       "    <tr>\n",
       "      <th>4</th>\n",
       "      <td>IGA</td>\n",
       "      <td>2019-03-01</td>\n",
       "      <td>Banglore</td>\n",
       "      <td>New Delhi</td>\n",
       "      <td>BLR → NAG → DEL</td>\n",
       "      <td>16:50</td>\n",
       "      <td>21:35</td>\n",
       "      <td>4h 45m</td>\n",
       "      <td>1 stop</td>\n",
       "      <td>No info</td>\n",
       "      <td>13302</td>\n",
       "      <td>1</td>\n",
       "      <td>3</td>\n",
       "      <td>2019</td>\n",
       "    </tr>\n",
       "  </tbody>\n",
       "</table>\n",
       "</div>"
      ],
      "text/plain": [
       "       Airline Date_of_Journey    Source Destination                  Route  \\\n",
       "0          IGA      2019-03-24  Banglore   New Delhi              BLR → DEL   \n",
       "1    Air India      2019-05-01   Kolkata    Banglore  CCU → IXR → BBI → BLR   \n",
       "2  Jet Airways      2019-06-09     Delhi      Cochin  DEL → LKO → BOM → COK   \n",
       "3          IGA      2019-05-12   Kolkata    Banglore        CCU → NAG → BLR   \n",
       "4          IGA      2019-03-01  Banglore   New Delhi        BLR → NAG → DEL   \n",
       "\n",
       "  Dep_Time  Arrival_Time Duration Total_Stops Additional_Info  Price  Dom  \\\n",
       "0    22:20  01:10 22 Mar   2h 50m    non-stop         No info   3897   24   \n",
       "1    05:50         13:15   7h 25m     2 stops         No info   7662    1   \n",
       "2    09:25  04:25 10 Jun      19h     2 stops         No info  13882    9   \n",
       "3    18:05         23:30   5h 25m      1 stop         No info   6218   12   \n",
       "4    16:50         21:35   4h 45m      1 stop         No info  13302    1   \n",
       "\n",
       "   moy  year  \n",
       "0    3  2019  \n",
       "1    5  2019  \n",
       "2    6  2019  \n",
       "3    5  2019  \n",
       "4    3  2019  "
      ]
     },
     "execution_count": 18,
     "metadata": {},
     "output_type": "execute_result"
    }
   ],
   "source": [
    "train_data.head()"
   ]
  },
  {
   "cell_type": "code",
   "execution_count": 19,
   "id": "be841bad",
   "metadata": {},
   "outputs": [
    {
     "data": {
      "text/html": [
       "<div>\n",
       "<style scoped>\n",
       "    .dataframe tbody tr th:only-of-type {\n",
       "        vertical-align: middle;\n",
       "    }\n",
       "\n",
       "    .dataframe tbody tr th {\n",
       "        vertical-align: top;\n",
       "    }\n",
       "\n",
       "    .dataframe thead th {\n",
       "        text-align: right;\n",
       "    }\n",
       "</style>\n",
       "<table border=\"1\" class=\"dataframe\">\n",
       "  <thead>\n",
       "    <tr style=\"text-align: right;\">\n",
       "      <th></th>\n",
       "      <th>Airline</th>\n",
       "      <th>Date_of_Journey</th>\n",
       "      <th>Source</th>\n",
       "      <th>Destination</th>\n",
       "      <th>Route</th>\n",
       "      <th>Dep_Time</th>\n",
       "      <th>Arrival_Time</th>\n",
       "      <th>Duration</th>\n",
       "      <th>Total_Stops</th>\n",
       "      <th>Additional_Info</th>\n",
       "      <th>Dom</th>\n",
       "      <th>moy</th>\n",
       "      <th>year</th>\n",
       "    </tr>\n",
       "  </thead>\n",
       "  <tbody>\n",
       "    <tr>\n",
       "      <th>0</th>\n",
       "      <td>Jet Airways</td>\n",
       "      <td>2019-03-24</td>\n",
       "      <td>Delhi</td>\n",
       "      <td>Cochin</td>\n",
       "      <td>DEL → BOM → COK</td>\n",
       "      <td>17:30</td>\n",
       "      <td>04:25 07 Jun</td>\n",
       "      <td>10h 55m</td>\n",
       "      <td>1 stop</td>\n",
       "      <td>No info</td>\n",
       "      <td>24.0</td>\n",
       "      <td>3.0</td>\n",
       "      <td>2019.0</td>\n",
       "    </tr>\n",
       "    <tr>\n",
       "      <th>1</th>\n",
       "      <td>IGA</td>\n",
       "      <td>2019-05-01</td>\n",
       "      <td>Kolkata</td>\n",
       "      <td>Banglore</td>\n",
       "      <td>CCU → MAA → BLR</td>\n",
       "      <td>06:20</td>\n",
       "      <td>10:20</td>\n",
       "      <td>4h</td>\n",
       "      <td>1 stop</td>\n",
       "      <td>No info</td>\n",
       "      <td>1.0</td>\n",
       "      <td>5.0</td>\n",
       "      <td>2019.0</td>\n",
       "    </tr>\n",
       "    <tr>\n",
       "      <th>2</th>\n",
       "      <td>Jet Airways</td>\n",
       "      <td>2019-06-09</td>\n",
       "      <td>Delhi</td>\n",
       "      <td>Cochin</td>\n",
       "      <td>DEL → BOM → COK</td>\n",
       "      <td>19:15</td>\n",
       "      <td>19:00 22 May</td>\n",
       "      <td>23h 45m</td>\n",
       "      <td>1 stop</td>\n",
       "      <td>In-flight meal not included</td>\n",
       "      <td>9.0</td>\n",
       "      <td>6.0</td>\n",
       "      <td>2019.0</td>\n",
       "    </tr>\n",
       "    <tr>\n",
       "      <th>3</th>\n",
       "      <td>Multiple carriers</td>\n",
       "      <td>2019-05-12</td>\n",
       "      <td>Delhi</td>\n",
       "      <td>Cochin</td>\n",
       "      <td>DEL → BOM → COK</td>\n",
       "      <td>08:00</td>\n",
       "      <td>21:00</td>\n",
       "      <td>13h</td>\n",
       "      <td>1 stop</td>\n",
       "      <td>No info</td>\n",
       "      <td>12.0</td>\n",
       "      <td>5.0</td>\n",
       "      <td>2019.0</td>\n",
       "    </tr>\n",
       "    <tr>\n",
       "      <th>4</th>\n",
       "      <td>IGA</td>\n",
       "      <td>2019-03-01</td>\n",
       "      <td>Banglore</td>\n",
       "      <td>Delhi</td>\n",
       "      <td>BLR → DEL</td>\n",
       "      <td>23:55</td>\n",
       "      <td>02:45 25 Jun</td>\n",
       "      <td>2h 50m</td>\n",
       "      <td>non-stop</td>\n",
       "      <td>No info</td>\n",
       "      <td>1.0</td>\n",
       "      <td>3.0</td>\n",
       "      <td>2019.0</td>\n",
       "    </tr>\n",
       "  </tbody>\n",
       "</table>\n",
       "</div>"
      ],
      "text/plain": [
       "             Airline Date_of_Journey    Source Destination            Route  \\\n",
       "0        Jet Airways      2019-03-24     Delhi      Cochin  DEL → BOM → COK   \n",
       "1                IGA      2019-05-01   Kolkata    Banglore  CCU → MAA → BLR   \n",
       "2        Jet Airways      2019-06-09     Delhi      Cochin  DEL → BOM → COK   \n",
       "3  Multiple carriers      2019-05-12     Delhi      Cochin  DEL → BOM → COK   \n",
       "4                IGA      2019-03-01  Banglore       Delhi        BLR → DEL   \n",
       "\n",
       "  Dep_Time  Arrival_Time Duration Total_Stops              Additional_Info  \\\n",
       "0    17:30  04:25 07 Jun  10h 55m      1 stop                      No info   \n",
       "1    06:20         10:20       4h      1 stop                      No info   \n",
       "2    19:15  19:00 22 May  23h 45m      1 stop  In-flight meal not included   \n",
       "3    08:00         21:00      13h      1 stop                      No info   \n",
       "4    23:55  02:45 25 Jun   2h 50m    non-stop                      No info   \n",
       "\n",
       "    Dom  moy    year  \n",
       "0  24.0  3.0  2019.0  \n",
       "1   1.0  5.0  2019.0  \n",
       "2   9.0  6.0  2019.0  \n",
       "3  12.0  5.0  2019.0  \n",
       "4   1.0  3.0  2019.0  "
      ]
     },
     "execution_count": 19,
     "metadata": {},
     "output_type": "execute_result"
    }
   ],
   "source": [
    "test_data.head()"
   ]
  },
  {
   "cell_type": "code",
   "execution_count": 20,
   "id": "abbb714a",
   "metadata": {},
   "outputs": [
    {
     "data": {
      "text/plain": [
       "2019    10660\n",
       "Name: year, dtype: int64"
      ]
     },
     "execution_count": 20,
     "metadata": {},
     "output_type": "execute_result"
    }
   ],
   "source": [
    "# As suspected the data is collected for a single year so we will drop year coulmn\n",
    "train_data.year.value_counts()"
   ]
  },
  {
   "cell_type": "code",
   "execution_count": 21,
   "id": "e16ec3e7",
   "metadata": {},
   "outputs": [
    {
     "name": "stderr",
     "output_type": "stream",
     "text": [
      "C:\\Users\\Jaskaran singh sohal\\anaconda3\\lib\\site-packages\\seaborn\\_decorators.py:36: FutureWarning: Pass the following variables as keyword args: x, y. From version 0.12, the only valid positional argument will be `data`, and passing other arguments without an explicit keyword will result in an error or misinterpretation.\n",
      "  warnings.warn(\n",
      "C:\\Users\\Jaskaran singh sohal\\anaconda3\\lib\\site-packages\\seaborn\\_decorators.py:36: FutureWarning: Pass the following variables as keyword args: x, y. From version 0.12, the only valid positional argument will be `data`, and passing other arguments without an explicit keyword will result in an error or misinterpretation.\n",
      "  warnings.warn(\n"
     ]
    },
    {
     "data": {
      "text/plain": [
       "Text(0.5, 1.0, 'Months of year')"
      ]
     },
     "execution_count": 21,
     "metadata": {},
     "output_type": "execute_result"
    },
    {
     "data": {
      "image/png": "[encoded data removed]",
      "text/plain": [
       "<Figure size 1080x576 with 2 Axes>"
      ]
     },
     "metadata": {
      "needs_background": "light"
     },
     "output_type": "display_data"
    }
   ],
   "source": [
    "fig,ax=plt.subplots(nrows=1,ncols=2,figsize=(15,8))\n",
    "sns.barplot(train_data['Dom'],train_data['Price'],ax=ax[0]).set_title('Day of Month')\n",
    "sns.barplot(train_data['moy'],train_data['Price'],ax=ax[1]).set_title('Months of year')"
   ]
  },
  {
   "cell_type": "code",
   "execution_count": 22,
   "id": "f5f7cbaa",
   "metadata": {},
   "outputs": [
    {
     "name": "stdout",
     "output_type": "stream",
     "text": [
      "<class 'pandas.core.frame.DataFrame'>\n",
      "Int64Index: 10660 entries, 0 to 10682\n",
      "Data columns (total 14 columns):\n",
      " #   Column           Non-Null Count  Dtype         \n",
      "---  ------           --------------  -----         \n",
      " 0   Airline          10660 non-null  object        \n",
      " 1   Date_of_Journey  10660 non-null  datetime64[ns]\n",
      " 2   Source           10660 non-null  object        \n",
      " 3   Destination      10660 non-null  object        \n",
      " 4   Route            10659 non-null  object        \n",
      " 5   Dep_Time         10660 non-null  object        \n",
      " 6   Arrival_Time     10660 non-null  object        \n",
      " 7   Duration         10660 non-null  object        \n",
      " 8   Total_Stops      10659 non-null  object        \n",
      " 9   Additional_Info  10660 non-null  object        \n",
      " 10  Price            10660 non-null  int64         \n",
      " 11  Dom              10660 non-null  int64         \n",
      " 12  moy              10660 non-null  int64         \n",
      " 13  year             10660 non-null  int64         \n",
      "dtypes: datetime64[ns](1), int64(4), object(9)\n",
      "memory usage: 1.5+ MB\n"
     ]
    }
   ],
   "source": [
    "train_data.info()"
   ]
  },
  {
   "cell_type": "code",
   "execution_count": 23,
   "id": "e9b74c9e",
   "metadata": {},
   "outputs": [],
   "source": [
    "#Since Duration variable explains the the variation in Daprture time and arrival time we are gonna drop arrival time and departure time \n",
    "train_data.drop(columns=['year'],inplace=True)\n",
    "test_data.drop(columns=['year'],inplace=True)"
   ]
  },
  {
   "cell_type": "code",
   "execution_count": 24,
   "id": "c464a571",
   "metadata": {},
   "outputs": [
    {
     "name": "stdout",
     "output_type": "stream",
     "text": [
      "<class 'pandas.core.frame.DataFrame'>\n",
      "Int64Index: 10660 entries, 0 to 10682\n",
      "Data columns (total 13 columns):\n",
      " #   Column           Non-Null Count  Dtype         \n",
      "---  ------           --------------  -----         \n",
      " 0   Airline          10660 non-null  object        \n",
      " 1   Date_of_Journey  10660 non-null  datetime64[ns]\n",
      " 2   Source           10660 non-null  object        \n",
      " 3   Destination      10660 non-null  object        \n",
      " 4   Route            10659 non-null  object        \n",
      " 5   Dep_Time         10660 non-null  object        \n",
      " 6   Arrival_Time     10660 non-null  object        \n",
      " 7   Duration         10660 non-null  object        \n",
      " 8   Total_Stops      10659 non-null  object        \n",
      " 9   Additional_Info  10660 non-null  object        \n",
      " 10  Price            10660 non-null  int64         \n",
      " 11  Dom              10660 non-null  int64         \n",
      " 12  moy              10660 non-null  int64         \n",
      "dtypes: datetime64[ns](1), int64(3), object(9)\n",
      "memory usage: 1.4+ MB\n"
     ]
    }
   ],
   "source": [
    "train_data.info()"
   ]
  },
  {
   "cell_type": "code",
   "execution_count": 25,
   "id": "923dc2b2",
   "metadata": {},
   "outputs": [
    {
     "data": {
      "text/html": [
       "<div>\n",
       "<style scoped>\n",
       "    .dataframe tbody tr th:only-of-type {\n",
       "        vertical-align: middle;\n",
       "    }\n",
       "\n",
       "    .dataframe tbody tr th {\n",
       "        vertical-align: top;\n",
       "    }\n",
       "\n",
       "    .dataframe thead th {\n",
       "        text-align: right;\n",
       "    }\n",
       "</style>\n",
       "<table border=\"1\" class=\"dataframe\">\n",
       "  <thead>\n",
       "    <tr style=\"text-align: right;\">\n",
       "      <th></th>\n",
       "      <th>Airline</th>\n",
       "      <th>Date_of_Journey</th>\n",
       "      <th>Source</th>\n",
       "      <th>Destination</th>\n",
       "      <th>Route</th>\n",
       "      <th>Dep_Time</th>\n",
       "      <th>Arrival_Time</th>\n",
       "      <th>Duration</th>\n",
       "      <th>Total_Stops</th>\n",
       "      <th>Additional_Info</th>\n",
       "      <th>Price</th>\n",
       "      <th>Dom</th>\n",
       "      <th>moy</th>\n",
       "    </tr>\n",
       "  </thead>\n",
       "  <tbody>\n",
       "    <tr>\n",
       "      <th>0</th>\n",
       "      <td>IGA</td>\n",
       "      <td>2019-03-24</td>\n",
       "      <td>Banglore</td>\n",
       "      <td>New Delhi</td>\n",
       "      <td>BLR → DEL</td>\n",
       "      <td>22:20</td>\n",
       "      <td>01:10 22 Mar</td>\n",
       "      <td>2h 50m</td>\n",
       "      <td>non-stop</td>\n",
       "      <td>No info</td>\n",
       "      <td>3897</td>\n",
       "      <td>24</td>\n",
       "      <td>3</td>\n",
       "    </tr>\n",
       "    <tr>\n",
       "      <th>1</th>\n",
       "      <td>Air India</td>\n",
       "      <td>2019-05-01</td>\n",
       "      <td>Kolkata</td>\n",
       "      <td>Banglore</td>\n",
       "      <td>CCU → IXR → BBI → BLR</td>\n",
       "      <td>05:50</td>\n",
       "      <td>13:15</td>\n",
       "      <td>7h 25m</td>\n",
       "      <td>2 stops</td>\n",
       "      <td>No info</td>\n",
       "      <td>7662</td>\n",
       "      <td>1</td>\n",
       "      <td>5</td>\n",
       "    </tr>\n",
       "    <tr>\n",
       "      <th>2</th>\n",
       "      <td>Jet Airways</td>\n",
       "      <td>2019-06-09</td>\n",
       "      <td>Delhi</td>\n",
       "      <td>Cochin</td>\n",
       "      <td>DEL → LKO → BOM → COK</td>\n",
       "      <td>09:25</td>\n",
       "      <td>04:25 10 Jun</td>\n",
       "      <td>19h</td>\n",
       "      <td>2 stops</td>\n",
       "      <td>No info</td>\n",
       "      <td>13882</td>\n",
       "      <td>9</td>\n",
       "      <td>6</td>\n",
       "    </tr>\n",
       "    <tr>\n",
       "      <th>3</th>\n",
       "      <td>IGA</td>\n",
       "      <td>2019-05-12</td>\n",
       "      <td>Kolkata</td>\n",
       "      <td>Banglore</td>\n",
       "      <td>CCU → NAG → BLR</td>\n",
       "      <td>18:05</td>\n",
       "      <td>23:30</td>\n",
       "      <td>5h 25m</td>\n",
       "      <td>1 stop</td>\n",
       "      <td>No info</td>\n",
       "      <td>6218</td>\n",
       "      <td>12</td>\n",
       "      <td>5</td>\n",
       "    </tr>\n",
       "    <tr>\n",
       "      <th>4</th>\n",
       "      <td>IGA</td>\n",
       "      <td>2019-03-01</td>\n",
       "      <td>Banglore</td>\n",
       "      <td>New Delhi</td>\n",
       "      <td>BLR → NAG → DEL</td>\n",
       "      <td>16:50</td>\n",
       "      <td>21:35</td>\n",
       "      <td>4h 45m</td>\n",
       "      <td>1 stop</td>\n",
       "      <td>No info</td>\n",
       "      <td>13302</td>\n",
       "      <td>1</td>\n",
       "      <td>3</td>\n",
       "    </tr>\n",
       "  </tbody>\n",
       "</table>\n",
       "</div>"
      ],
      "text/plain": [
       "       Airline Date_of_Journey    Source Destination                  Route  \\\n",
       "0          IGA      2019-03-24  Banglore   New Delhi              BLR → DEL   \n",
       "1    Air India      2019-05-01   Kolkata    Banglore  CCU → IXR → BBI → BLR   \n",
       "2  Jet Airways      2019-06-09     Delhi      Cochin  DEL → LKO → BOM → COK   \n",
       "3          IGA      2019-05-12   Kolkata    Banglore        CCU → NAG → BLR   \n",
       "4          IGA      2019-03-01  Banglore   New Delhi        BLR → NAG → DEL   \n",
       "\n",
       "  Dep_Time  Arrival_Time Duration Total_Stops Additional_Info  Price  Dom  moy  \n",
       "0    22:20  01:10 22 Mar   2h 50m    non-stop         No info   3897   24    3  \n",
       "1    05:50         13:15   7h 25m     2 stops         No info   7662    1    5  \n",
       "2    09:25  04:25 10 Jun      19h     2 stops         No info  13882    9    6  \n",
       "3    18:05         23:30   5h 25m      1 stop         No info   6218   12    5  \n",
       "4    16:50         21:35   4h 45m      1 stop         No info  13302    1    3  "
      ]
     },
     "execution_count": 25,
     "metadata": {},
     "output_type": "execute_result"
    }
   ],
   "source": [
    "train_data.head()"
   ]
  },
  {
   "cell_type": "code",
   "execution_count": 26,
   "id": "48084af9",
   "metadata": {},
   "outputs": [],
   "source": [
    "def Duration_mapper(x):\n",
    "    if 'm' not in x:\n",
    "        x=x.strip()+\" \"+\"0m\"\n",
    "        return x\n",
    "    if 'h' not in x:\n",
    "        x=\"0h\"+\" \"+x.strip()\n",
    "        return x\n",
    "    else:\n",
    "        return x\n",
    "    \n",
    "        \n",
    "train_data['Duration']=train_data['Duration'].apply(Duration_mapper)\n",
    "test_data['Duration']=test_data['Duration'].apply(Duration_mapper)\n",
    "\n",
    "#Extracting the feature\n",
    "\n",
    "train_data['hour_duration']=train_data['Duration'].apply(lambda x : x.split()[0].replace('h',''))\n",
    "train_data['min_duration']=train_data['Duration'].apply(lambda x : x.split()[1].replace('m',''))\n",
    "test_data['hour_duration']=test_data['Duration'].apply(lambda x : x.split()[0].replace('h',''))\n",
    "test_data['min_duration']=test_data['Duration'].apply(lambda x : x.split()[1].replace('m',''))\n",
    "\n",
    "#TypeCasting\n",
    "\n",
    "train_data['hour_duration']=train_data['hour_duration'].astype('int64')\n",
    "train_data['min_duration']=train_data['min_duration'].astype('int64')\n",
    "test_data['hour_duration']=test_data['hour_duration'].astype('int64')\n",
    "test_data['min_duration']=test_data['min_duration'].astype('int64')\n",
    "\n",
    "#Dropping the variable \n",
    "\n",
    "\n",
    "\n",
    "train_data.drop(columns=['Duration','Date_of_Journey'],inplace=True)\n",
    "test_data.drop(columns=['Duration','Date_of_Journey'],inplace=True)\n",
    "\n",
    "        "
   ]
  },
  {
   "cell_type": "code",
   "execution_count": 27,
   "id": "b67c24aa",
   "metadata": {},
   "outputs": [
    {
     "data": {
      "text/html": [
       "<div>\n",
       "<style scoped>\n",
       "    .dataframe tbody tr th:only-of-type {\n",
       "        vertical-align: middle;\n",
       "    }\n",
       "\n",
       "    .dataframe tbody tr th {\n",
       "        vertical-align: top;\n",
       "    }\n",
       "\n",
       "    .dataframe thead th {\n",
       "        text-align: right;\n",
       "    }\n",
       "</style>\n",
       "<table border=\"1\" class=\"dataframe\">\n",
       "  <thead>\n",
       "    <tr style=\"text-align: right;\">\n",
       "      <th></th>\n",
       "      <th>Airline</th>\n",
       "      <th>Source</th>\n",
       "      <th>Destination</th>\n",
       "      <th>Route</th>\n",
       "      <th>Dep_Time</th>\n",
       "      <th>Arrival_Time</th>\n",
       "      <th>Total_Stops</th>\n",
       "      <th>Additional_Info</th>\n",
       "      <th>Price</th>\n",
       "      <th>Dom</th>\n",
       "      <th>moy</th>\n",
       "      <th>hour_duration</th>\n",
       "      <th>min_duration</th>\n",
       "    </tr>\n",
       "  </thead>\n",
       "  <tbody>\n",
       "    <tr>\n",
       "      <th>0</th>\n",
       "      <td>IGA</td>\n",
       "      <td>Banglore</td>\n",
       "      <td>New Delhi</td>\n",
       "      <td>BLR → DEL</td>\n",
       "      <td>22:20</td>\n",
       "      <td>01:10 22 Mar</td>\n",
       "      <td>non-stop</td>\n",
       "      <td>No info</td>\n",
       "      <td>3897</td>\n",
       "      <td>24</td>\n",
       "      <td>3</td>\n",
       "      <td>2</td>\n",
       "      <td>50</td>\n",
       "    </tr>\n",
       "    <tr>\n",
       "      <th>1</th>\n",
       "      <td>Air India</td>\n",
       "      <td>Kolkata</td>\n",
       "      <td>Banglore</td>\n",
       "      <td>CCU → IXR → BBI → BLR</td>\n",
       "      <td>05:50</td>\n",
       "      <td>13:15</td>\n",
       "      <td>2 stops</td>\n",
       "      <td>No info</td>\n",
       "      <td>7662</td>\n",
       "      <td>1</td>\n",
       "      <td>5</td>\n",
       "      <td>7</td>\n",
       "      <td>25</td>\n",
       "    </tr>\n",
       "    <tr>\n",
       "      <th>2</th>\n",
       "      <td>Jet Airways</td>\n",
       "      <td>Delhi</td>\n",
       "      <td>Cochin</td>\n",
       "      <td>DEL → LKO → BOM → COK</td>\n",
       "      <td>09:25</td>\n",
       "      <td>04:25 10 Jun</td>\n",
       "      <td>2 stops</td>\n",
       "      <td>No info</td>\n",
       "      <td>13882</td>\n",
       "      <td>9</td>\n",
       "      <td>6</td>\n",
       "      <td>19</td>\n",
       "      <td>0</td>\n",
       "    </tr>\n",
       "    <tr>\n",
       "      <th>3</th>\n",
       "      <td>IGA</td>\n",
       "      <td>Kolkata</td>\n",
       "      <td>Banglore</td>\n",
       "      <td>CCU → NAG → BLR</td>\n",
       "      <td>18:05</td>\n",
       "      <td>23:30</td>\n",
       "      <td>1 stop</td>\n",
       "      <td>No info</td>\n",
       "      <td>6218</td>\n",
       "      <td>12</td>\n",
       "      <td>5</td>\n",
       "      <td>5</td>\n",
       "      <td>25</td>\n",
       "    </tr>\n",
       "    <tr>\n",
       "      <th>4</th>\n",
       "      <td>IGA</td>\n",
       "      <td>Banglore</td>\n",
       "      <td>New Delhi</td>\n",
       "      <td>BLR → NAG → DEL</td>\n",
       "      <td>16:50</td>\n",
       "      <td>21:35</td>\n",
       "      <td>1 stop</td>\n",
       "      <td>No info</td>\n",
       "      <td>13302</td>\n",
       "      <td>1</td>\n",
       "      <td>3</td>\n",
       "      <td>4</td>\n",
       "      <td>45</td>\n",
       "    </tr>\n",
       "  </tbody>\n",
       "</table>\n",
       "</div>"
      ],
      "text/plain": [
       "       Airline    Source Destination                  Route Dep_Time  \\\n",
       "0          IGA  Banglore   New Delhi              BLR → DEL    22:20   \n",
       "1    Air India   Kolkata    Banglore  CCU → IXR → BBI → BLR    05:50   \n",
       "2  Jet Airways     Delhi      Cochin  DEL → LKO → BOM → COK    09:25   \n",
       "3          IGA   Kolkata    Banglore        CCU → NAG → BLR    18:05   \n",
       "4          IGA  Banglore   New Delhi        BLR → NAG → DEL    16:50   \n",
       "\n",
       "   Arrival_Time Total_Stops Additional_Info  Price  Dom  moy  hour_duration  \\\n",
       "0  01:10 22 Mar    non-stop         No info   3897   24    3              2   \n",
       "1         13:15     2 stops         No info   7662    1    5              7   \n",
       "2  04:25 10 Jun     2 stops         No info  13882    9    6             19   \n",
       "3         23:30      1 stop         No info   6218   12    5              5   \n",
       "4         21:35      1 stop         No info  13302    1    3              4   \n",
       "\n",
       "   min_duration  \n",
       "0            50  \n",
       "1            25  \n",
       "2             0  \n",
       "3            25  \n",
       "4            45  "
      ]
     },
     "execution_count": 27,
     "metadata": {},
     "output_type": "execute_result"
    }
   ],
   "source": [
    "\n",
    "train_data.head()"
   ]
  },
  {
   "cell_type": "code",
   "execution_count": 28,
   "id": "0eb5d8fc",
   "metadata": {},
   "outputs": [],
   "source": [
    "train_data['Duration']=train_data['hour_duration']+train_data['min_duration'].apply(lambda x:np.round_(x/60,decimals=3))\n",
    "test_data['Duration']=test_data['hour_duration']+test_data['min_duration'].apply(lambda x:np.round_(x/60,decimals=3))"
   ]
  },
  {
   "cell_type": "code",
   "execution_count": 29,
   "id": "fd0d6a1d",
   "metadata": {},
   "outputs": [
    {
     "data": {
      "text/html": [
       "<div>\n",
       "<style scoped>\n",
       "    .dataframe tbody tr th:only-of-type {\n",
       "        vertical-align: middle;\n",
       "    }\n",
       "\n",
       "    .dataframe tbody tr th {\n",
       "        vertical-align: top;\n",
       "    }\n",
       "\n",
       "    .dataframe thead th {\n",
       "        text-align: right;\n",
       "    }\n",
       "</style>\n",
       "<table border=\"1\" class=\"dataframe\">\n",
       "  <thead>\n",
       "    <tr style=\"text-align: right;\">\n",
       "      <th></th>\n",
       "      <th>Airline</th>\n",
       "      <th>Source</th>\n",
       "      <th>Destination</th>\n",
       "      <th>Route</th>\n",
       "      <th>Dep_Time</th>\n",
       "      <th>Arrival_Time</th>\n",
       "      <th>Total_Stops</th>\n",
       "      <th>Additional_Info</th>\n",
       "      <th>Price</th>\n",
       "      <th>Dom</th>\n",
       "      <th>moy</th>\n",
       "      <th>hour_duration</th>\n",
       "      <th>min_duration</th>\n",
       "      <th>Duration</th>\n",
       "    </tr>\n",
       "  </thead>\n",
       "  <tbody>\n",
       "    <tr>\n",
       "      <th>0</th>\n",
       "      <td>IGA</td>\n",
       "      <td>Banglore</td>\n",
       "      <td>New Delhi</td>\n",
       "      <td>BLR → DEL</td>\n",
       "      <td>22:20</td>\n",
       "      <td>01:10 22 Mar</td>\n",
       "      <td>non-stop</td>\n",
       "      <td>No info</td>\n",
       "      <td>3897</td>\n",
       "      <td>24</td>\n",
       "      <td>3</td>\n",
       "      <td>2</td>\n",
       "      <td>50</td>\n",
       "      <td>2.833</td>\n",
       "    </tr>\n",
       "    <tr>\n",
       "      <th>1</th>\n",
       "      <td>Air India</td>\n",
       "      <td>Kolkata</td>\n",
       "      <td>Banglore</td>\n",
       "      <td>CCU → IXR → BBI → BLR</td>\n",
       "      <td>05:50</td>\n",
       "      <td>13:15</td>\n",
       "      <td>2 stops</td>\n",
       "      <td>No info</td>\n",
       "      <td>7662</td>\n",
       "      <td>1</td>\n",
       "      <td>5</td>\n",
       "      <td>7</td>\n",
       "      <td>25</td>\n",
       "      <td>7.417</td>\n",
       "    </tr>\n",
       "    <tr>\n",
       "      <th>2</th>\n",
       "      <td>Jet Airways</td>\n",
       "      <td>Delhi</td>\n",
       "      <td>Cochin</td>\n",
       "      <td>DEL → LKO → BOM → COK</td>\n",
       "      <td>09:25</td>\n",
       "      <td>04:25 10 Jun</td>\n",
       "      <td>2 stops</td>\n",
       "      <td>No info</td>\n",
       "      <td>13882</td>\n",
       "      <td>9</td>\n",
       "      <td>6</td>\n",
       "      <td>19</td>\n",
       "      <td>0</td>\n",
       "      <td>19.000</td>\n",
       "    </tr>\n",
       "    <tr>\n",
       "      <th>3</th>\n",
       "      <td>IGA</td>\n",
       "      <td>Kolkata</td>\n",
       "      <td>Banglore</td>\n",
       "      <td>CCU → NAG → BLR</td>\n",
       "      <td>18:05</td>\n",
       "      <td>23:30</td>\n",
       "      <td>1 stop</td>\n",
       "      <td>No info</td>\n",
       "      <td>6218</td>\n",
       "      <td>12</td>\n",
       "      <td>5</td>\n",
       "      <td>5</td>\n",
       "      <td>25</td>\n",
       "      <td>5.417</td>\n",
       "    </tr>\n",
       "    <tr>\n",
       "      <th>4</th>\n",
       "      <td>IGA</td>\n",
       "      <td>Banglore</td>\n",
       "      <td>New Delhi</td>\n",
       "      <td>BLR → NAG → DEL</td>\n",
       "      <td>16:50</td>\n",
       "      <td>21:35</td>\n",
       "      <td>1 stop</td>\n",
       "      <td>No info</td>\n",
       "      <td>13302</td>\n",
       "      <td>1</td>\n",
       "      <td>3</td>\n",
       "      <td>4</td>\n",
       "      <td>45</td>\n",
       "      <td>4.750</td>\n",
       "    </tr>\n",
       "  </tbody>\n",
       "</table>\n",
       "</div>"
      ],
      "text/plain": [
       "       Airline    Source Destination                  Route Dep_Time  \\\n",
       "0          IGA  Banglore   New Delhi              BLR → DEL    22:20   \n",
       "1    Air India   Kolkata    Banglore  CCU → IXR → BBI → BLR    05:50   \n",
       "2  Jet Airways     Delhi      Cochin  DEL → LKO → BOM → COK    09:25   \n",
       "3          IGA   Kolkata    Banglore        CCU → NAG → BLR    18:05   \n",
       "4          IGA  Banglore   New Delhi        BLR → NAG → DEL    16:50   \n",
       "\n",
       "   Arrival_Time Total_Stops Additional_Info  Price  Dom  moy  hour_duration  \\\n",
       "0  01:10 22 Mar    non-stop         No info   3897   24    3              2   \n",
       "1         13:15     2 stops         No info   7662    1    5              7   \n",
       "2  04:25 10 Jun     2 stops         No info  13882    9    6             19   \n",
       "3         23:30      1 stop         No info   6218   12    5              5   \n",
       "4         21:35      1 stop         No info  13302    1    3              4   \n",
       "\n",
       "   min_duration  Duration  \n",
       "0            50     2.833  \n",
       "1            25     7.417  \n",
       "2             0    19.000  \n",
       "3            25     5.417  \n",
       "4            45     4.750  "
      ]
     },
     "execution_count": 29,
     "metadata": {},
     "output_type": "execute_result"
    }
   ],
   "source": [
    "train_data.head()"
   ]
  },
  {
   "cell_type": "code",
   "execution_count": 63,
   "id": "0ddda22c",
   "metadata": {},
   "outputs": [],
   "source": [
    "test_data.drop(columns=['hour_duration','min_duration'],inplace=True)\n"
   ]
  },
  {
   "cell_type": "code",
   "execution_count": 32,
   "id": "51364bab",
   "metadata": {},
   "outputs": [
    {
     "name": "stderr",
     "output_type": "stream",
     "text": [
      "C:\\Users\\Jaskaran singh sohal\\anaconda3\\lib\\site-packages\\seaborn\\_decorators.py:36: FutureWarning: Pass the following variables as keyword args: x, y. From version 0.12, the only valid positional argument will be `data`, and passing other arguments without an explicit keyword will result in an error or misinterpretation.\n",
      "  warnings.warn(\n"
     ]
    },
    {
     "data": {
      "text/plain": [
       "<AxesSubplot:xlabel='Total_Stops', ylabel='Price'>"
      ]
     },
     "execution_count": 32,
     "metadata": {},
     "output_type": "execute_result"
    },
    {
     "data": {
      "image/png": "[encoded data removed]",
      "text/plain": [
       "<Figure size 432x288 with 1 Axes>"
      ]
     },
     "metadata": {
      "needs_background": "light"
     },
     "output_type": "display_data"
    }
   ],
   "source": [
    "#Now we will visualize our duartion vs Price \n",
    "sns.barplot(train_data['Total_Stops'],train_data['Price'])"
   ]
  },
  {
   "cell_type": "code",
   "execution_count": 33,
   "id": "0a3ebd5b",
   "metadata": {},
   "outputs": [
    {
     "data": {
      "text/plain": [
       "1 stop      5607\n",
       "non-stop    3488\n",
       "2 stops     1518\n",
       "3 stops       45\n",
       "4 stops        1\n",
       "Name: Total_Stops, dtype: int64"
      ]
     },
     "execution_count": 33,
     "metadata": {},
     "output_type": "execute_result"
    }
   ],
   "source": [
    "train_data.Total_Stops.value_counts()"
   ]
  },
  {
   "cell_type": "code",
   "execution_count": 34,
   "id": "d0be524b",
   "metadata": {},
   "outputs": [
    {
     "data": {
      "text/plain": [
       "1 stop      5607\n",
       "non-stop    3488\n",
       "2 stops     1518\n",
       "3 stops       45\n",
       "Name: Total_Stops, dtype: int64"
      ]
     },
     "execution_count": 34,
     "metadata": {},
     "output_type": "execute_result"
    }
   ],
   "source": [
    "# there's only one value for 4 stops we will remove these data points \n",
    "train_data.drop(train_data[train_data.Total_Stops=='4 stops'].index,inplace=True)\n",
    "test_data.drop(test_data[test_data.Total_Stops=='4 stops'].index,inplace=True)\n",
    "train_data.Total_Stops.value_counts()"
   ]
  },
  {
   "cell_type": "code",
   "execution_count": 35,
   "id": "1e74dafb",
   "metadata": {},
   "outputs": [],
   "source": [
    "mode=train_data['Total_Stops'].mode()\n",
    "train_data['Total_Stops']=train_data['Total_Stops'].replace(np.nan,mode[0])"
   ]
  },
  {
   "cell_type": "code",
   "execution_count": 36,
   "id": "1769c817",
   "metadata": {},
   "outputs": [
    {
     "name": "stdout",
     "output_type": "stream",
     "text": [
      "non-stop , 2 stops:                          p_value = 0.0000 t_value = -102.0940               Ha_accepted: True \n",
      "non-stop , 1 stop:                          p_value = 0.0000 t_value = -74.9297               Ha_accepted: True \n",
      "non-stop , 3 stops:                          p_value = 0.0000 t_value = -25.8327               Ha_accepted: True \n",
      "2 stops , non-stop:                          p_value = 0.0000 t_value = 102.0940               Ha_accepted: True \n",
      "2 stops , 1 stop:                          p_value = 0.0000 t_value = 18.8919               Ha_accepted: True \n",
      "2 stops   , 3 stops:                          p_value = 0.3444 t_value = -0.9457              Ha_accepted: False \n",
      "1 stop , non-stop:                          p_value = 0.0000 t_value = 74.9297               Ha_accepted: True \n",
      "1 stop , 2 stops:                          p_value = 0.0000 t_value = -18.8919               Ha_accepted: True \n",
      "1 stop , 3 stops:                          p_value = 0.0000 t_value = -4.2319               Ha_accepted: True \n",
      "3 stops , non-stop:                          p_value = 0.0000 t_value = 25.8327               Ha_accepted: True \n",
      "3 stops   , 2 stops:                          p_value = 0.3444 t_value = 0.9457              Ha_accepted: False \n",
      "3 stops , 1 stop:                          p_value = 0.0000 t_value = 4.2319               Ha_accepted: True \n"
     ]
    }
   ],
   "source": [
    "Ha_rejected_list_stops=[]\n",
    "Stops=train_data.Total_Stops.unique()\n",
    "for i,a in enumerate(Stops):\n",
    "    for i,b in enumerate(Stops):\n",
    "        if a!=b:\n",
    "            \n",
    "            g1=train_data[train_data.Total_Stops==a][\"Price\"]\n",
    "            g2=train_data[train_data.Total_Stops==b][\"Price\"]\n",
    "            t,p=stats.ttest_ind(g1,g2)\n",
    "        \n",
    "            if p<0.05: #Null hypothesis significant value 0.05\n",
    "                \n",
    "                \n",
    "                print(f\"{a} , {b}:                          p_value = {p:.4f} t_value = {t:.4f}               Ha_accepted: True \")\n",
    "        \n",
    "        \n",
    "            else:\n",
    "                print(f\"{a}   , {b}:                          p_value = {p:.4f} t_value = {t:.4f}              Ha_accepted: False \")\n",
    "                Ha_rejected_list_stops.append([a,b])\n",
    "\n"
   ]
  },
  {
   "cell_type": "code",
   "execution_count": 37,
   "id": "6f9d4da3",
   "metadata": {},
   "outputs": [
    {
     "data": {
      "text/plain": [
       "[['2 stops', '3 stops'], ['3 stops', '2 stops']]"
      ]
     },
     "execution_count": 37,
     "metadata": {},
     "output_type": "execute_result"
    }
   ],
   "source": [
    "Ha_rejected_list_stops"
   ]
  },
  {
   "cell_type": "markdown",
   "id": "24574874",
   "metadata": {},
   "source": [
    "* Since 2 Stop and 3 stops are having almost the same values (p_values>0.05) then we say that these two groups belong to the same group so we will group these to category as 1 category # This helps us reduce the dimentionality"
   ]
  },
  {
   "cell_type": "code",
   "execution_count": 38,
   "id": "14b9ca33",
   "metadata": {},
   "outputs": [],
   "source": [
    "def stop_mapper(x):\n",
    "    if x in ['2 stops','3 stops'] :\n",
    "        return '2 or 3 stops '\n",
    "    else:\n",
    "        return x\n",
    "\n",
    "    \n",
    "train_data['Total_Stops']=train_data['Total_Stops'].apply(stop_mapper)\n",
    "test_data['Total_Stops']=test_data['Total_Stops'].apply(stop_mapper)"
   ]
  },
  {
   "cell_type": "code",
   "execution_count": 39,
   "id": "790e0b04",
   "metadata": {},
   "outputs": [
    {
     "data": {
      "text/plain": [
       "1 stop           5608\n",
       "non-stop         3488\n",
       "2 or 3 stops     1563\n",
       "Name: Total_Stops, dtype: int64"
      ]
     },
     "execution_count": 39,
     "metadata": {},
     "output_type": "execute_result"
    }
   ],
   "source": [
    "train_data.Total_Stops.value_counts()"
   ]
  },
  {
   "cell_type": "code",
   "execution_count": 40,
   "id": "53c19162",
   "metadata": {},
   "outputs": [
    {
     "data": {
      "text/plain": [
       "1 stop           1427\n",
       "non-stop          846\n",
       "2 or 3 stops      390\n",
       "Name: Total_Stops, dtype: int64"
      ]
     },
     "execution_count": 40,
     "metadata": {},
     "output_type": "execute_result"
    }
   ],
   "source": [
    "test_data.Total_Stops.value_counts()"
   ]
  },
  {
   "cell_type": "code",
   "execution_count": 41,
   "id": "01684f14",
   "metadata": {},
   "outputs": [
    {
     "data": {
      "text/html": [
       "<div>\n",
       "<style scoped>\n",
       "    .dataframe tbody tr th:only-of-type {\n",
       "        vertical-align: middle;\n",
       "    }\n",
       "\n",
       "    .dataframe tbody tr th {\n",
       "        vertical-align: top;\n",
       "    }\n",
       "\n",
       "    .dataframe thead th {\n",
       "        text-align: right;\n",
       "    }\n",
       "</style>\n",
       "<table border=\"1\" class=\"dataframe\">\n",
       "  <thead>\n",
       "    <tr style=\"text-align: right;\">\n",
       "      <th></th>\n",
       "      <th>Airline</th>\n",
       "      <th>Source</th>\n",
       "      <th>Destination</th>\n",
       "      <th>Route</th>\n",
       "      <th>Dep_Time</th>\n",
       "      <th>Arrival_Time</th>\n",
       "      <th>Total_Stops</th>\n",
       "      <th>Additional_Info</th>\n",
       "      <th>Price</th>\n",
       "      <th>Dom</th>\n",
       "      <th>moy</th>\n",
       "      <th>Duration</th>\n",
       "    </tr>\n",
       "  </thead>\n",
       "  <tbody>\n",
       "    <tr>\n",
       "      <th>0</th>\n",
       "      <td>IGA</td>\n",
       "      <td>Banglore</td>\n",
       "      <td>New Delhi</td>\n",
       "      <td>BLR → DEL</td>\n",
       "      <td>22:20</td>\n",
       "      <td>01:10 22 Mar</td>\n",
       "      <td>non-stop</td>\n",
       "      <td>No info</td>\n",
       "      <td>3897</td>\n",
       "      <td>24</td>\n",
       "      <td>3</td>\n",
       "      <td>2.833</td>\n",
       "    </tr>\n",
       "    <tr>\n",
       "      <th>1</th>\n",
       "      <td>Air India</td>\n",
       "      <td>Kolkata</td>\n",
       "      <td>Banglore</td>\n",
       "      <td>CCU → IXR → BBI → BLR</td>\n",
       "      <td>05:50</td>\n",
       "      <td>13:15</td>\n",
       "      <td>2 or 3 stops</td>\n",
       "      <td>No info</td>\n",
       "      <td>7662</td>\n",
       "      <td>1</td>\n",
       "      <td>5</td>\n",
       "      <td>7.417</td>\n",
       "    </tr>\n",
       "    <tr>\n",
       "      <th>2</th>\n",
       "      <td>Jet Airways</td>\n",
       "      <td>Delhi</td>\n",
       "      <td>Cochin</td>\n",
       "      <td>DEL → LKO → BOM → COK</td>\n",
       "      <td>09:25</td>\n",
       "      <td>04:25 10 Jun</td>\n",
       "      <td>2 or 3 stops</td>\n",
       "      <td>No info</td>\n",
       "      <td>13882</td>\n",
       "      <td>9</td>\n",
       "      <td>6</td>\n",
       "      <td>19.000</td>\n",
       "    </tr>\n",
       "    <tr>\n",
       "      <th>3</th>\n",
       "      <td>IGA</td>\n",
       "      <td>Kolkata</td>\n",
       "      <td>Banglore</td>\n",
       "      <td>CCU → NAG → BLR</td>\n",
       "      <td>18:05</td>\n",
       "      <td>23:30</td>\n",
       "      <td>1 stop</td>\n",
       "      <td>No info</td>\n",
       "      <td>6218</td>\n",
       "      <td>12</td>\n",
       "      <td>5</td>\n",
       "      <td>5.417</td>\n",
       "    </tr>\n",
       "    <tr>\n",
       "      <th>4</th>\n",
       "      <td>IGA</td>\n",
       "      <td>Banglore</td>\n",
       "      <td>New Delhi</td>\n",
       "      <td>BLR → NAG → DEL</td>\n",
       "      <td>16:50</td>\n",
       "      <td>21:35</td>\n",
       "      <td>1 stop</td>\n",
       "      <td>No info</td>\n",
       "      <td>13302</td>\n",
       "      <td>1</td>\n",
       "      <td>3</td>\n",
       "      <td>4.750</td>\n",
       "    </tr>\n",
       "  </tbody>\n",
       "</table>\n",
       "</div>"
      ],
      "text/plain": [
       "       Airline    Source Destination                  Route Dep_Time  \\\n",
       "0          IGA  Banglore   New Delhi              BLR → DEL    22:20   \n",
       "1    Air India   Kolkata    Banglore  CCU → IXR → BBI → BLR    05:50   \n",
       "2  Jet Airways     Delhi      Cochin  DEL → LKO → BOM → COK    09:25   \n",
       "3          IGA   Kolkata    Banglore        CCU → NAG → BLR    18:05   \n",
       "4          IGA  Banglore   New Delhi        BLR → NAG → DEL    16:50   \n",
       "\n",
       "   Arrival_Time    Total_Stops Additional_Info  Price  Dom  moy  Duration  \n",
       "0  01:10 22 Mar       non-stop         No info   3897   24    3     2.833  \n",
       "1         13:15  2 or 3 stops          No info   7662    1    5     7.417  \n",
       "2  04:25 10 Jun  2 or 3 stops          No info  13882    9    6    19.000  \n",
       "3         23:30         1 stop         No info   6218   12    5     5.417  \n",
       "4         21:35         1 stop         No info  13302    1    3     4.750  "
      ]
     },
     "execution_count": 41,
     "metadata": {},
     "output_type": "execute_result"
    }
   ],
   "source": [
    "train_data.head()"
   ]
  },
  {
   "cell_type": "code",
   "execution_count": 42,
   "id": "8eefde5c",
   "metadata": {},
   "outputs": [],
   "source": [
    "train_data.drop(columns=['Route'],inplace=True)\n",
    "test_data.drop(columns=['Route'],inplace=True)"
   ]
  },
  {
   "cell_type": "code",
   "execution_count": 43,
   "id": "b136bbfc",
   "metadata": {},
   "outputs": [
    {
     "data": {
      "text/plain": [
       "No info                         2141\n",
       "In-flight meal not included      444\n",
       "No check-in baggage included      76\n",
       "1 Long layover                     1\n",
       "Change airports                    1\n",
       "Name: Additional_Info, dtype: int64"
      ]
     },
     "execution_count": 43,
     "metadata": {},
     "output_type": "execute_result"
    }
   ],
   "source": [
    "test_data.Additional_Info.value_counts()"
   ]
  },
  {
   "cell_type": "code",
   "execution_count": 45,
   "id": "23cdc655",
   "metadata": {},
   "outputs": [
    {
     "data": {
      "text/plain": [
       "No info                         8325\n",
       "In-flight meal not included     1982\n",
       "No check-in baggage included     320\n",
       "1 Long layover                    19\n",
       "Change airports                    6\n",
       "No Info                            3\n",
       "1 Short layover                    1\n",
       "Business class                     1\n",
       "Red-eye flight                     1\n",
       "2 Long layover                     1\n",
       "Name: Additional_Info, dtype: int64"
      ]
     },
     "execution_count": 45,
     "metadata": {},
     "output_type": "execute_result"
    }
   ],
   "source": [
    "train_data.Additional_Info.value_counts()"
   ]
  },
  {
   "cell_type": "code",
   "execution_count": 52,
   "id": "66bfc394",
   "metadata": {},
   "outputs": [
    {
     "name": "stderr",
     "output_type": "stream",
     "text": [
      "C:\\Users\\Jaskaran singh sohal\\anaconda3\\lib\\site-packages\\seaborn\\_decorators.py:36: FutureWarning: Pass the following variables as keyword args: x, y. From version 0.12, the only valid positional argument will be `data`, and passing other arguments without an explicit keyword will result in an error or misinterpretation.\n",
      "  warnings.warn(\n"
     ]
    },
    {
     "data": {
      "text/plain": [
       "<AxesSubplot:xlabel='Additional_Info', ylabel='Price'>"
      ]
     },
     "execution_count": 52,
     "metadata": {},
     "output_type": "execute_result"
    },
    {
     "data": {
      "image/png": "[encoded data removed]",
      "text/plain": [
       "<Figure size 2160x1440 with 1 Axes>"
      ]
     },
     "metadata": {
      "needs_background": "light"
     },
     "output_type": "display_data"
    }
   ],
   "source": [
    "plt.figure(figsize=(30,20))\n",
    "sns.barplot(train_data.Additional_Info,train_data.Price)"
   ]
  },
  {
   "cell_type": "code",
   "execution_count": 49,
   "id": "1a800834",
   "metadata": {},
   "outputs": [
    {
     "data": {
      "text/html": [
       "<div>\n",
       "<style scoped>\n",
       "    .dataframe tbody tr th:only-of-type {\n",
       "        vertical-align: middle;\n",
       "    }\n",
       "\n",
       "    .dataframe tbody tr th {\n",
       "        vertical-align: top;\n",
       "    }\n",
       "\n",
       "    .dataframe thead th {\n",
       "        text-align: right;\n",
       "    }\n",
       "</style>\n",
       "<table border=\"1\" class=\"dataframe\">\n",
       "  <thead>\n",
       "    <tr style=\"text-align: right;\">\n",
       "      <th></th>\n",
       "      <th>Airline</th>\n",
       "      <th>Source</th>\n",
       "      <th>Destination</th>\n",
       "      <th>Dep_Time</th>\n",
       "      <th>Arrival_Time</th>\n",
       "      <th>Total_Stops</th>\n",
       "      <th>Additional_Info</th>\n",
       "      <th>Price</th>\n",
       "      <th>Dom</th>\n",
       "      <th>moy</th>\n",
       "      <th>Duration</th>\n",
       "    </tr>\n",
       "  </thead>\n",
       "  <tbody>\n",
       "    <tr>\n",
       "      <th>0</th>\n",
       "      <td>IGA</td>\n",
       "      <td>Banglore</td>\n",
       "      <td>New Delhi</td>\n",
       "      <td>22:20</td>\n",
       "      <td>01:10 22 Mar</td>\n",
       "      <td>non-stop</td>\n",
       "      <td>No info</td>\n",
       "      <td>3897</td>\n",
       "      <td>24</td>\n",
       "      <td>3</td>\n",
       "      <td>2.833</td>\n",
       "    </tr>\n",
       "    <tr>\n",
       "      <th>1</th>\n",
       "      <td>Air India</td>\n",
       "      <td>Kolkata</td>\n",
       "      <td>Banglore</td>\n",
       "      <td>05:50</td>\n",
       "      <td>13:15</td>\n",
       "      <td>2 or 3 stops</td>\n",
       "      <td>No info</td>\n",
       "      <td>7662</td>\n",
       "      <td>1</td>\n",
       "      <td>5</td>\n",
       "      <td>7.417</td>\n",
       "    </tr>\n",
       "    <tr>\n",
       "      <th>2</th>\n",
       "      <td>Jet Airways</td>\n",
       "      <td>Delhi</td>\n",
       "      <td>Cochin</td>\n",
       "      <td>09:25</td>\n",
       "      <td>04:25 10 Jun</td>\n",
       "      <td>2 or 3 stops</td>\n",
       "      <td>No info</td>\n",
       "      <td>13882</td>\n",
       "      <td>9</td>\n",
       "      <td>6</td>\n",
       "      <td>19.000</td>\n",
       "    </tr>\n",
       "    <tr>\n",
       "      <th>3</th>\n",
       "      <td>IGA</td>\n",
       "      <td>Kolkata</td>\n",
       "      <td>Banglore</td>\n",
       "      <td>18:05</td>\n",
       "      <td>23:30</td>\n",
       "      <td>1 stop</td>\n",
       "      <td>No info</td>\n",
       "      <td>6218</td>\n",
       "      <td>12</td>\n",
       "      <td>5</td>\n",
       "      <td>5.417</td>\n",
       "    </tr>\n",
       "    <tr>\n",
       "      <th>4</th>\n",
       "      <td>IGA</td>\n",
       "      <td>Banglore</td>\n",
       "      <td>New Delhi</td>\n",
       "      <td>16:50</td>\n",
       "      <td>21:35</td>\n",
       "      <td>1 stop</td>\n",
       "      <td>No info</td>\n",
       "      <td>13302</td>\n",
       "      <td>1</td>\n",
       "      <td>3</td>\n",
       "      <td>4.750</td>\n",
       "    </tr>\n",
       "  </tbody>\n",
       "</table>\n",
       "</div>"
      ],
      "text/plain": [
       "       Airline    Source Destination Dep_Time  Arrival_Time    Total_Stops  \\\n",
       "0          IGA  Banglore   New Delhi    22:20  01:10 22 Mar       non-stop   \n",
       "1    Air India   Kolkata    Banglore    05:50         13:15  2 or 3 stops    \n",
       "2  Jet Airways     Delhi      Cochin    09:25  04:25 10 Jun  2 or 3 stops    \n",
       "3          IGA   Kolkata    Banglore    18:05         23:30         1 stop   \n",
       "4          IGA  Banglore   New Delhi    16:50         21:35         1 stop   \n",
       "\n",
       "  Additional_Info  Price  Dom  moy  Duration  \n",
       "0         No info   3897   24    3     2.833  \n",
       "1         No info   7662    1    5     7.417  \n",
       "2         No info  13882    9    6    19.000  \n",
       "3         No info   6218   12    5     5.417  \n",
       "4         No info  13302    1    3     4.750  "
      ]
     },
     "execution_count": 49,
     "metadata": {},
     "output_type": "execute_result"
    }
   ],
   "source": [
    "train_data.head()"
   ]
  },
  {
   "cell_type": "code",
   "execution_count": 50,
   "id": "75c70e76",
   "metadata": {},
   "outputs": [],
   "source": [
    "train_data['Dep_Time_hr']=pd.to_datetime(train_data['Dep_Time']).dt.hour\n",
    "train_data['Dep_Time_min']=pd.to_datetime(train_data['Dep_Time']).dt.minute\n",
    "test_data['Dep_Time_hr']=pd.to_datetime(test_data['Dep_Time']).dt.hour\n",
    "test_data['Dep_Time_min']=pd.to_datetime(test_data['Dep_Time']).dt.minute\n",
    "\n",
    "train_data['Arrival_Time_hr']=pd.to_datetime(train_data['Arrival_Time']).dt.hour\n",
    "train_data['Arrival_Time_min']=pd.to_datetime(train_data['Arrival_Time']).dt.minute\n",
    "test_data['Arrival_Time_hr']=pd.to_datetime(test_data['Arrival_Time']).dt.hour\n",
    "test_data['Arrival_Time_min']=pd.to_datetime(test_data['Arrival_Time']).dt.minute\n",
    "\n",
    "\n",
    "train_data.drop(columns=['Dep_Time','Arrival_Time'],inplace=True)"
   ]
  },
  {
   "cell_type": "code",
   "execution_count": 59,
   "id": "6bffa438",
   "metadata": {},
   "outputs": [],
   "source": [
    "test_data.drop(columns=['Dep_Time','Arrival_Time'],inplace=True)"
   ]
  },
  {
   "cell_type": "code",
   "execution_count": 51,
   "id": "9d479bd2",
   "metadata": {},
   "outputs": [
    {
     "data": {
      "text/html": [
       "<div>\n",
       "<style scoped>\n",
       "    .dataframe tbody tr th:only-of-type {\n",
       "        vertical-align: middle;\n",
       "    }\n",
       "\n",
       "    .dataframe tbody tr th {\n",
       "        vertical-align: top;\n",
       "    }\n",
       "\n",
       "    .dataframe thead th {\n",
       "        text-align: right;\n",
       "    }\n",
       "</style>\n",
       "<table border=\"1\" class=\"dataframe\">\n",
       "  <thead>\n",
       "    <tr style=\"text-align: right;\">\n",
       "      <th></th>\n",
       "      <th>Airline</th>\n",
       "      <th>Source</th>\n",
       "      <th>Destination</th>\n",
       "      <th>Total_Stops</th>\n",
       "      <th>Additional_Info</th>\n",
       "      <th>Price</th>\n",
       "      <th>Dom</th>\n",
       "      <th>moy</th>\n",
       "      <th>Duration</th>\n",
       "      <th>Dep_Time_hr</th>\n",
       "      <th>Dep_Time_min</th>\n",
       "      <th>Arrival_Time_hr</th>\n",
       "      <th>Arrival_Time_min</th>\n",
       "    </tr>\n",
       "  </thead>\n",
       "  <tbody>\n",
       "    <tr>\n",
       "      <th>0</th>\n",
       "      <td>IGA</td>\n",
       "      <td>Banglore</td>\n",
       "      <td>New Delhi</td>\n",
       "      <td>non-stop</td>\n",
       "      <td>No info</td>\n",
       "      <td>3897</td>\n",
       "      <td>24</td>\n",
       "      <td>3</td>\n",
       "      <td>2.833</td>\n",
       "      <td>22</td>\n",
       "      <td>20</td>\n",
       "      <td>1</td>\n",
       "      <td>10</td>\n",
       "    </tr>\n",
       "    <tr>\n",
       "      <th>1</th>\n",
       "      <td>Air India</td>\n",
       "      <td>Kolkata</td>\n",
       "      <td>Banglore</td>\n",
       "      <td>2 or 3 stops</td>\n",
       "      <td>No info</td>\n",
       "      <td>7662</td>\n",
       "      <td>1</td>\n",
       "      <td>5</td>\n",
       "      <td>7.417</td>\n",
       "      <td>5</td>\n",
       "      <td>50</td>\n",
       "      <td>13</td>\n",
       "      <td>15</td>\n",
       "    </tr>\n",
       "    <tr>\n",
       "      <th>2</th>\n",
       "      <td>Jet Airways</td>\n",
       "      <td>Delhi</td>\n",
       "      <td>Cochin</td>\n",
       "      <td>2 or 3 stops</td>\n",
       "      <td>No info</td>\n",
       "      <td>13882</td>\n",
       "      <td>9</td>\n",
       "      <td>6</td>\n",
       "      <td>19.000</td>\n",
       "      <td>9</td>\n",
       "      <td>25</td>\n",
       "      <td>4</td>\n",
       "      <td>25</td>\n",
       "    </tr>\n",
       "    <tr>\n",
       "      <th>3</th>\n",
       "      <td>IGA</td>\n",
       "      <td>Kolkata</td>\n",
       "      <td>Banglore</td>\n",
       "      <td>1 stop</td>\n",
       "      <td>No info</td>\n",
       "      <td>6218</td>\n",
       "      <td>12</td>\n",
       "      <td>5</td>\n",
       "      <td>5.417</td>\n",
       "      <td>18</td>\n",
       "      <td>5</td>\n",
       "      <td>23</td>\n",
       "      <td>30</td>\n",
       "    </tr>\n",
       "    <tr>\n",
       "      <th>4</th>\n",
       "      <td>IGA</td>\n",
       "      <td>Banglore</td>\n",
       "      <td>New Delhi</td>\n",
       "      <td>1 stop</td>\n",
       "      <td>No info</td>\n",
       "      <td>13302</td>\n",
       "      <td>1</td>\n",
       "      <td>3</td>\n",
       "      <td>4.750</td>\n",
       "      <td>16</td>\n",
       "      <td>50</td>\n",
       "      <td>21</td>\n",
       "      <td>35</td>\n",
       "    </tr>\n",
       "    <tr>\n",
       "      <th>...</th>\n",
       "      <td>...</td>\n",
       "      <td>...</td>\n",
       "      <td>...</td>\n",
       "      <td>...</td>\n",
       "      <td>...</td>\n",
       "      <td>...</td>\n",
       "      <td>...</td>\n",
       "      <td>...</td>\n",
       "      <td>...</td>\n",
       "      <td>...</td>\n",
       "      <td>...</td>\n",
       "      <td>...</td>\n",
       "      <td>...</td>\n",
       "    </tr>\n",
       "    <tr>\n",
       "      <th>10678</th>\n",
       "      <td>IGA</td>\n",
       "      <td>Kolkata</td>\n",
       "      <td>Banglore</td>\n",
       "      <td>non-stop</td>\n",
       "      <td>No info</td>\n",
       "      <td>4107</td>\n",
       "      <td>9</td>\n",
       "      <td>4</td>\n",
       "      <td>2.500</td>\n",
       "      <td>19</td>\n",
       "      <td>55</td>\n",
       "      <td>22</td>\n",
       "      <td>25</td>\n",
       "    </tr>\n",
       "    <tr>\n",
       "      <th>10679</th>\n",
       "      <td>Air India</td>\n",
       "      <td>Kolkata</td>\n",
       "      <td>Banglore</td>\n",
       "      <td>non-stop</td>\n",
       "      <td>No info</td>\n",
       "      <td>4145</td>\n",
       "      <td>27</td>\n",
       "      <td>4</td>\n",
       "      <td>2.583</td>\n",
       "      <td>20</td>\n",
       "      <td>45</td>\n",
       "      <td>23</td>\n",
       "      <td>20</td>\n",
       "    </tr>\n",
       "    <tr>\n",
       "      <th>10680</th>\n",
       "      <td>Jet Airways</td>\n",
       "      <td>Banglore</td>\n",
       "      <td>Delhi</td>\n",
       "      <td>non-stop</td>\n",
       "      <td>No info</td>\n",
       "      <td>7229</td>\n",
       "      <td>27</td>\n",
       "      <td>4</td>\n",
       "      <td>3.000</td>\n",
       "      <td>8</td>\n",
       "      <td>20</td>\n",
       "      <td>11</td>\n",
       "      <td>20</td>\n",
       "    </tr>\n",
       "    <tr>\n",
       "      <th>10681</th>\n",
       "      <td>Vistara</td>\n",
       "      <td>Banglore</td>\n",
       "      <td>New Delhi</td>\n",
       "      <td>non-stop</td>\n",
       "      <td>No info</td>\n",
       "      <td>12648</td>\n",
       "      <td>1</td>\n",
       "      <td>3</td>\n",
       "      <td>2.667</td>\n",
       "      <td>11</td>\n",
       "      <td>30</td>\n",
       "      <td>14</td>\n",
       "      <td>10</td>\n",
       "    </tr>\n",
       "    <tr>\n",
       "      <th>10682</th>\n",
       "      <td>Air India</td>\n",
       "      <td>Delhi</td>\n",
       "      <td>Cochin</td>\n",
       "      <td>2 or 3 stops</td>\n",
       "      <td>No info</td>\n",
       "      <td>11753</td>\n",
       "      <td>9</td>\n",
       "      <td>5</td>\n",
       "      <td>8.333</td>\n",
       "      <td>10</td>\n",
       "      <td>55</td>\n",
       "      <td>19</td>\n",
       "      <td>15</td>\n",
       "    </tr>\n",
       "  </tbody>\n",
       "</table>\n",
       "<p>10659 rows × 13 columns</p>\n",
       "</div>"
      ],
      "text/plain": [
       "           Airline    Source Destination    Total_Stops Additional_Info  \\\n",
       "0              IGA  Banglore   New Delhi       non-stop         No info   \n",
       "1        Air India   Kolkata    Banglore  2 or 3 stops          No info   \n",
       "2      Jet Airways     Delhi      Cochin  2 or 3 stops          No info   \n",
       "3              IGA   Kolkata    Banglore         1 stop         No info   \n",
       "4              IGA  Banglore   New Delhi         1 stop         No info   \n",
       "...            ...       ...         ...            ...             ...   \n",
       "10678          IGA   Kolkata    Banglore       non-stop         No info   \n",
       "10679    Air India   Kolkata    Banglore       non-stop         No info   \n",
       "10680  Jet Airways  Banglore       Delhi       non-stop         No info   \n",
       "10681      Vistara  Banglore   New Delhi       non-stop         No info   \n",
       "10682    Air India     Delhi      Cochin  2 or 3 stops          No info   \n",
       "\n",
       "       Price  Dom  moy  Duration  Dep_Time_hr  Dep_Time_min  Arrival_Time_hr  \\\n",
       "0       3897   24    3     2.833           22            20                1   \n",
       "1       7662    1    5     7.417            5            50               13   \n",
       "2      13882    9    6    19.000            9            25                4   \n",
       "3       6218   12    5     5.417           18             5               23   \n",
       "4      13302    1    3     4.750           16            50               21   \n",
       "...      ...  ...  ...       ...          ...           ...              ...   \n",
       "10678   4107    9    4     2.500           19            55               22   \n",
       "10679   4145   27    4     2.583           20            45               23   \n",
       "10680   7229   27    4     3.000            8            20               11   \n",
       "10681  12648    1    3     2.667           11            30               14   \n",
       "10682  11753    9    5     8.333           10            55               19   \n",
       "\n",
       "       Arrival_Time_min  \n",
       "0                    10  \n",
       "1                    15  \n",
       "2                    25  \n",
       "3                    30  \n",
       "4                    35  \n",
       "...                 ...  \n",
       "10678                25  \n",
       "10679                20  \n",
       "10680                20  \n",
       "10681                10  \n",
       "10682                15  \n",
       "\n",
       "[10659 rows x 13 columns]"
      ]
     },
     "execution_count": 51,
     "metadata": {},
     "output_type": "execute_result"
    }
   ],
   "source": [
    "train_data"
   ]
  },
  {
   "cell_type": "code",
   "execution_count": 52,
   "id": "21ebfdd7",
   "metadata": {},
   "outputs": [
    {
     "data": {
      "text/html": [
       "<div>\n",
       "<style scoped>\n",
       "    .dataframe tbody tr th:only-of-type {\n",
       "        vertical-align: middle;\n",
       "    }\n",
       "\n",
       "    .dataframe tbody tr th {\n",
       "        vertical-align: top;\n",
       "    }\n",
       "\n",
       "    .dataframe thead th {\n",
       "        text-align: right;\n",
       "    }\n",
       "</style>\n",
       "<table border=\"1\" class=\"dataframe\">\n",
       "  <thead>\n",
       "    <tr style=\"text-align: right;\">\n",
       "      <th></th>\n",
       "      <th>Airline</th>\n",
       "      <th>Source</th>\n",
       "      <th>Destination</th>\n",
       "      <th>Total_Stops</th>\n",
       "      <th>Additional_Info</th>\n",
       "      <th>Price</th>\n",
       "      <th>Dom</th>\n",
       "      <th>moy</th>\n",
       "      <th>Duration</th>\n",
       "      <th>Dep_Time_hr</th>\n",
       "      <th>Dep_Time_min</th>\n",
       "      <th>Arrival_Time_hr</th>\n",
       "      <th>Arrival_Time_min</th>\n",
       "    </tr>\n",
       "  </thead>\n",
       "  <tbody>\n",
       "    <tr>\n",
       "      <th>0</th>\n",
       "      <td>IGA</td>\n",
       "      <td>Banglore</td>\n",
       "      <td>New Delhi</td>\n",
       "      <td>non-stop</td>\n",
       "      <td>No info</td>\n",
       "      <td>3897</td>\n",
       "      <td>24</td>\n",
       "      <td>3</td>\n",
       "      <td>2.833</td>\n",
       "      <td>22</td>\n",
       "      <td>20</td>\n",
       "      <td>1</td>\n",
       "      <td>10</td>\n",
       "    </tr>\n",
       "    <tr>\n",
       "      <th>1</th>\n",
       "      <td>Air India</td>\n",
       "      <td>Kolkata</td>\n",
       "      <td>Banglore</td>\n",
       "      <td>2 or 3 stops</td>\n",
       "      <td>No info</td>\n",
       "      <td>7662</td>\n",
       "      <td>1</td>\n",
       "      <td>5</td>\n",
       "      <td>7.417</td>\n",
       "      <td>5</td>\n",
       "      <td>50</td>\n",
       "      <td>13</td>\n",
       "      <td>15</td>\n",
       "    </tr>\n",
       "    <tr>\n",
       "      <th>2</th>\n",
       "      <td>Jet Airways</td>\n",
       "      <td>Delhi</td>\n",
       "      <td>Cochin</td>\n",
       "      <td>2 or 3 stops</td>\n",
       "      <td>No info</td>\n",
       "      <td>13882</td>\n",
       "      <td>9</td>\n",
       "      <td>6</td>\n",
       "      <td>19.000</td>\n",
       "      <td>9</td>\n",
       "      <td>25</td>\n",
       "      <td>4</td>\n",
       "      <td>25</td>\n",
       "    </tr>\n",
       "    <tr>\n",
       "      <th>3</th>\n",
       "      <td>IGA</td>\n",
       "      <td>Kolkata</td>\n",
       "      <td>Banglore</td>\n",
       "      <td>1 stop</td>\n",
       "      <td>No info</td>\n",
       "      <td>6218</td>\n",
       "      <td>12</td>\n",
       "      <td>5</td>\n",
       "      <td>5.417</td>\n",
       "      <td>18</td>\n",
       "      <td>5</td>\n",
       "      <td>23</td>\n",
       "      <td>30</td>\n",
       "    </tr>\n",
       "    <tr>\n",
       "      <th>4</th>\n",
       "      <td>IGA</td>\n",
       "      <td>Banglore</td>\n",
       "      <td>New Delhi</td>\n",
       "      <td>1 stop</td>\n",
       "      <td>No info</td>\n",
       "      <td>13302</td>\n",
       "      <td>1</td>\n",
       "      <td>3</td>\n",
       "      <td>4.750</td>\n",
       "      <td>16</td>\n",
       "      <td>50</td>\n",
       "      <td>21</td>\n",
       "      <td>35</td>\n",
       "    </tr>\n",
       "  </tbody>\n",
       "</table>\n",
       "</div>"
      ],
      "text/plain": [
       "       Airline    Source Destination    Total_Stops Additional_Info  Price  \\\n",
       "0          IGA  Banglore   New Delhi       non-stop         No info   3897   \n",
       "1    Air India   Kolkata    Banglore  2 or 3 stops          No info   7662   \n",
       "2  Jet Airways     Delhi      Cochin  2 or 3 stops          No info  13882   \n",
       "3          IGA   Kolkata    Banglore         1 stop         No info   6218   \n",
       "4          IGA  Banglore   New Delhi         1 stop         No info  13302   \n",
       "\n",
       "   Dom  moy  Duration  Dep_Time_hr  Dep_Time_min  Arrival_Time_hr  \\\n",
       "0   24    3     2.833           22            20                1   \n",
       "1    1    5     7.417            5            50               13   \n",
       "2    9    6    19.000            9            25                4   \n",
       "3   12    5     5.417           18             5               23   \n",
       "4    1    3     4.750           16            50               21   \n",
       "\n",
       "   Arrival_Time_min  \n",
       "0                10  \n",
       "1                15  \n",
       "2                25  \n",
       "3                30  \n",
       "4                35  "
      ]
     },
     "execution_count": 52,
     "metadata": {},
     "output_type": "execute_result"
    }
   ],
   "source": [
    "train_data.head()"
   ]
  },
  {
   "cell_type": "code",
   "execution_count": 54,
   "id": "a5ecc5f5",
   "metadata": {},
   "outputs": [
    {
     "data": {
      "text/plain": [
       "((10659, 13), (2663, 16))"
      ]
     },
     "execution_count": 54,
     "metadata": {},
     "output_type": "execute_result"
    }
   ],
   "source": [
    "train_data.shape,test_data.shape"
   ]
  },
  {
   "cell_type": "code",
   "execution_count": 64,
   "id": "886f5a04",
   "metadata": {},
   "outputs": [
    {
     "data": {
      "text/plain": [
       "(13322, 13)"
      ]
     },
     "execution_count": 64,
     "metadata": {},
     "output_type": "execute_result"
    }
   ],
   "source": [
    "df=pd.concat([train_data,test_data],ignore_index=True)\n",
    "df.shape"
   ]
  },
  {
   "cell_type": "code",
   "execution_count": 65,
   "id": "23a06d54",
   "metadata": {},
   "outputs": [],
   "source": [
    "df=pd.get_dummies(df,columns=['Airline','Source','Destination','Total_Stops','Additional_Info'],drop_first=True)"
   ]
  },
  {
   "cell_type": "code",
   "execution_count": 66,
   "id": "61926d63",
   "metadata": {},
   "outputs": [
    {
     "name": "stdout",
     "output_type": "stream",
     "text": [
      "<class 'pandas.core.frame.DataFrame'>\n",
      "RangeIndex: 13322 entries, 0 to 13321\n",
      "Data columns (total 33 columns):\n",
      " #   Column                                        Non-Null Count  Dtype  \n",
      "---  ------                                        --------------  -----  \n",
      " 0   Price                                         10659 non-null  float64\n",
      " 1   Dom                                           13318 non-null  float64\n",
      " 2   moy                                           13318 non-null  float64\n",
      " 3   Duration                                      13322 non-null  float64\n",
      " 4   Dep_Time_hr                                   13322 non-null  int64  \n",
      " 5   Dep_Time_min                                  13322 non-null  int64  \n",
      " 6   Arrival_Time_hr                               13322 non-null  int64  \n",
      " 7   Arrival_Time_min                              13322 non-null  int64  \n",
      " 8   Airline_IGA                                   13322 non-null  uint8  \n",
      " 9   Airline_Jet Airways                           13322 non-null  uint8  \n",
      " 10  Airline_Multiple carriers                     13322 non-null  uint8  \n",
      " 11  Airline_SpiceJet                              13322 non-null  uint8  \n",
      " 12  Airline_Vistara                               13322 non-null  uint8  \n",
      " 13  Source_Chennai                                13322 non-null  uint8  \n",
      " 14  Source_Delhi                                  13322 non-null  uint8  \n",
      " 15  Source_Kolkata                                13322 non-null  uint8  \n",
      " 16  Source_Mumbai                                 13322 non-null  uint8  \n",
      " 17  Destination_Cochin                            13322 non-null  uint8  \n",
      " 18  Destination_Delhi                             13322 non-null  uint8  \n",
      " 19  Destination_Hyderabad                         13322 non-null  uint8  \n",
      " 20  Destination_Kolkata                           13322 non-null  uint8  \n",
      " 21  Destination_New Delhi                         13322 non-null  uint8  \n",
      " 22  Total_Stops_2 or 3 stops                      13322 non-null  uint8  \n",
      " 23  Total_Stops_non-stop                          13322 non-null  uint8  \n",
      " 24  Additional_Info_1 Short layover               13322 non-null  uint8  \n",
      " 25  Additional_Info_2 Long layover                13322 non-null  uint8  \n",
      " 26  Additional_Info_Business class                13322 non-null  uint8  \n",
      " 27  Additional_Info_Change airports               13322 non-null  uint8  \n",
      " 28  Additional_Info_In-flight meal not included   13322 non-null  uint8  \n",
      " 29  Additional_Info_No Info                       13322 non-null  uint8  \n",
      " 30  Additional_Info_No check-in baggage included  13322 non-null  uint8  \n",
      " 31  Additional_Info_No info                       13322 non-null  uint8  \n",
      " 32  Additional_Info_Red-eye flight                13322 non-null  uint8  \n",
      "dtypes: float64(4), int64(4), uint8(25)\n",
      "memory usage: 1.1 MB\n"
     ]
    }
   ],
   "source": [
    "df.info()"
   ]
  },
  {
   "cell_type": "code",
   "execution_count": 73,
   "id": "ff359660",
   "metadata": {},
   "outputs": [
    {
     "data": {
      "text/plain": [
       "((10659, 33), (2663, 33))"
      ]
     },
     "execution_count": 73,
     "metadata": {},
     "output_type": "execute_result"
    }
   ],
   "source": [
    "Train_data=df.loc[:train_data.shape[0]-1,]\n",
    "Test_data=df.loc[train_data.shape[0]:,]\n",
    "Train_data.shape,Test_data.shape"
   ]
  },
  {
   "cell_type": "code",
   "execution_count": 75,
   "id": "35c66591",
   "metadata": {},
   "outputs": [
    {
     "name": "stdout",
     "output_type": "stream",
     "text": [
      "<class 'pandas.core.frame.DataFrame'>\n",
      "RangeIndex: 2663 entries, 10659 to 13321\n",
      "Data columns (total 33 columns):\n",
      " #   Column                                        Non-Null Count  Dtype  \n",
      "---  ------                                        --------------  -----  \n",
      " 0   Price                                         0 non-null      float64\n",
      " 1   Dom                                           2663 non-null   float64\n",
      " 2   moy                                           2663 non-null   float64\n",
      " 3   Duration                                      2663 non-null   float64\n",
      " 4   Dep_Time_hr                                   2663 non-null   int64  \n",
      " 5   Dep_Time_min                                  2663 non-null   int64  \n",
      " 6   Arrival_Time_hr                               2663 non-null   int64  \n",
      " 7   Arrival_Time_min                              2663 non-null   int64  \n",
      " 8   Airline_IGA                                   2663 non-null   uint8  \n",
      " 9   Airline_Jet Airways                           2663 non-null   uint8  \n",
      " 10  Airline_Multiple carriers                     2663 non-null   uint8  \n",
      " 11  Airline_SpiceJet                              2663 non-null   uint8  \n",
      " 12  Airline_Vistara                               2663 non-null   uint8  \n",
      " 13  Source_Chennai                                2663 non-null   uint8  \n",
      " 14  Source_Delhi                                  2663 non-null   uint8  \n",
      " 15  Source_Kolkata                                2663 non-null   uint8  \n",
      " 16  Source_Mumbai                                 2663 non-null   uint8  \n",
      " 17  Destination_Cochin                            2663 non-null   uint8  \n",
      " 18  Destination_Delhi                             2663 non-null   uint8  \n",
      " 19  Destination_Hyderabad                         2663 non-null   uint8  \n",
      " 20  Destination_Kolkata                           2663 non-null   uint8  \n",
      " 21  Destination_New Delhi                         2663 non-null   uint8  \n",
      " 22  Total_Stops_2 or 3 stops                      2663 non-null   uint8  \n",
      " 23  Total_Stops_non-stop                          2663 non-null   uint8  \n",
      " 24  Additional_Info_1 Short layover               2663 non-null   uint8  \n",
      " 25  Additional_Info_2 Long layover                2663 non-null   uint8  \n",
      " 26  Additional_Info_Business class                2663 non-null   uint8  \n",
      " 27  Additional_Info_Change airports               2663 non-null   uint8  \n",
      " 28  Additional_Info_In-flight meal not included   2663 non-null   uint8  \n",
      " 29  Additional_Info_No Info                       2663 non-null   uint8  \n",
      " 30  Additional_Info_No check-in baggage included  2663 non-null   uint8  \n",
      " 31  Additional_Info_No info                       2663 non-null   uint8  \n",
      " 32  Additional_Info_Red-eye flight                2663 non-null   uint8  \n",
      "dtypes: float64(4), int64(4), uint8(25)\n",
      "memory usage: 231.6 KB\n"
     ]
    }
   ],
   "source": [
    "Test_data.info()"
   ]
  },
  {
   "cell_type": "code",
   "execution_count": 68,
   "id": "ec0b94df",
   "metadata": {},
   "outputs": [],
   "source": [
    "#Now the final step is to impute the missing values before modelling \n",
    "\n",
    "mode2=df['Dom'].mode()\n",
    "mode3=df['moy'].mode()\n",
    "\n"
   ]
  },
  {
   "cell_type": "code",
   "execution_count": 69,
   "id": "84798076",
   "metadata": {},
   "outputs": [],
   "source": [
    "\n",
    "df['Dom']=df['Dom'].replace(np.nan,mode2[0])\n",
    "df['moy']=df['moy'].replace(np.nan,mode3[0])"
   ]
  },
  {
   "cell_type": "code",
   "execution_count": 70,
   "id": "7fcb31b1",
   "metadata": {},
   "outputs": [
    {
     "name": "stdout",
     "output_type": "stream",
     "text": [
      "<class 'pandas.core.frame.DataFrame'>\n",
      "RangeIndex: 13322 entries, 0 to 13321\n",
      "Data columns (total 33 columns):\n",
      " #   Column                                        Non-Null Count  Dtype  \n",
      "---  ------                                        --------------  -----  \n",
      " 0   Price                                         10659 non-null  float64\n",
      " 1   Dom                                           13322 non-null  float64\n",
      " 2   moy                                           13322 non-null  float64\n",
      " 3   Duration                                      13322 non-null  float64\n",
      " 4   Dep_Time_hr                                   13322 non-null  int64  \n",
      " 5   Dep_Time_min                                  13322 non-null  int64  \n",
      " 6   Arrival_Time_hr                               13322 non-null  int64  \n",
      " 7   Arrival_Time_min                              13322 non-null  int64  \n",
      " 8   Airline_IGA                                   13322 non-null  uint8  \n",
      " 9   Airline_Jet Airways                           13322 non-null  uint8  \n",
      " 10  Airline_Multiple carriers                     13322 non-null  uint8  \n",
      " 11  Airline_SpiceJet                              13322 non-null  uint8  \n",
      " 12  Airline_Vistara                               13322 non-null  uint8  \n",
      " 13  Source_Chennai                                13322 non-null  uint8  \n",
      " 14  Source_Delhi                                  13322 non-null  uint8  \n",
      " 15  Source_Kolkata                                13322 non-null  uint8  \n",
      " 16  Source_Mumbai                                 13322 non-null  uint8  \n",
      " 17  Destination_Cochin                            13322 non-null  uint8  \n",
      " 18  Destination_Delhi                             13322 non-null  uint8  \n",
      " 19  Destination_Hyderabad                         13322 non-null  uint8  \n",
      " 20  Destination_Kolkata                           13322 non-null  uint8  \n",
      " 21  Destination_New Delhi                         13322 non-null  uint8  \n",
      " 22  Total_Stops_2 or 3 stops                      13322 non-null  uint8  \n",
      " 23  Total_Stops_non-stop                          13322 non-null  uint8  \n",
      " 24  Additional_Info_1 Short layover               13322 non-null  uint8  \n",
      " 25  Additional_Info_2 Long layover                13322 non-null  uint8  \n",
      " 26  Additional_Info_Business class                13322 non-null  uint8  \n",
      " 27  Additional_Info_Change airports               13322 non-null  uint8  \n",
      " 28  Additional_Info_In-flight meal not included   13322 non-null  uint8  \n",
      " 29  Additional_Info_No Info                       13322 non-null  uint8  \n",
      " 30  Additional_Info_No check-in baggage included  13322 non-null  uint8  \n",
      " 31  Additional_Info_No info                       13322 non-null  uint8  \n",
      " 32  Additional_Info_Red-eye flight                13322 non-null  uint8  \n",
      "dtypes: float64(4), int64(4), uint8(25)\n",
      "memory usage: 1.1 MB\n"
     ]
    }
   ],
   "source": [
    "df.info()"
   ]
  },
  {
   "cell_type": "code",
   "execution_count": 76,
   "id": "25c1c7e8",
   "metadata": {},
   "outputs": [
    {
     "data": {
      "text/plain": [
       "((8527, 32), (2132, 32), (8527,), (2132,))"
      ]
     },
     "execution_count": 76,
     "metadata": {},
     "output_type": "execute_result"
    }
   ],
   "source": [
    "#Our data is ready for the modelling \n",
    "\n",
    "X=Train_data.drop(columns=['Price'])\n",
    "Y=Train_data.loc[:,'Price']\n",
    "\n",
    "#Splitting the dataset\n",
    "\n",
    "x_train,x_val,y_train,y_val=train_test_split(X,Y,train_size=0.8,random_state=101)\n",
    "x_train.shape,x_val.shape,y_train.shape,y_val.shape\n",
    "\n"
   ]
  },
  {
   "cell_type": "code",
   "execution_count": 87,
   "id": "ee05a531",
   "metadata": {},
   "outputs": [],
   "source": [
    "RFR_model=RandomForestRegressor(n_estimators=100,random_state=101)\n",
    "RFR_model.fit(x_train,y_train)\n",
    "train_preds=RFR_model.predict(x_train)\n",
    "test_preds=RFR_model.predict(x_val)\n",
    "r2_train=r2_score(y_train,train_preds)\n",
    "r2_test=r2_score(y_val,test_preds)\n",
    "mae_train=mean_absolute_error(y_train,train_preds)\n",
    "mae_test=mean_absolute_error(y_val,test_preds)\n",
    "XGBreg=XGBRegressor()\n",
    "XGBreg.fit(x_train,y_train)\n",
    "train_preds_Xg=XGBreg.predict(x_train)\n",
    "test_preds_Xg=XGBreg.predict(x_val)\n",
    "r2_train_Xg=r2_score(y_train,train_preds_Xg)\n",
    "r2_test_Xg=r2_score(y_val,test_preds_Xg)\n",
    "mae_train=mean_absolute_error(y_train,train_preds_Xg)\n",
    "mae_test=mean_absolute_error(y_val,test_preds_Xg)"
   ]
  },
  {
   "cell_type": "code",
   "execution_count": 90,
   "id": "d1117556",
   "metadata": {},
   "outputs": [
    {
     "name": "stdout",
     "output_type": "stream",
     "text": [
      "The R2 Score for the RandomForestRegressor on Training data is :98.2913\n",
      "The R2 Score for the RandomForestRegressor on Test data is :89.3173\n",
      "the R2 score for XGBOOST Regressor on training data is 96.7833\n",
      "the R2 score for XGBOOST regressor on testing data is 88.5208\n"
     ]
    }
   ],
   "source": [
    "print(f'The R2 Score for the RandomForestRegressor on Training data is :{r2_train*100:.4f}')\n",
    "print(f'The R2 Score for the RandomForestRegressor on Test data is :{r2_test*100:.4f}')\n",
    "        \n",
    "print(f'the R2 score for XGBOOST Regressor on training data is {r2_train_Xg*100:.4f}')\n",
    "print(f'the R2 score for XGBOOST regressor on testing data is {r2_test_Xg*100:.4f}')"
   ]
  },
  {
   "cell_type": "code",
   "execution_count": 112,
   "id": "01c88d26",
   "metadata": {},
   "outputs": [],
   "source": [
    "param={'n_estimators': [int(x) for x in np.linspace(start = 200, stop = 2000, num = 10)],\n",
    "       'max_features':['auto', 'sqrt'],\n",
    "       'max_depth' :[int(x) for x in np.linspace(10, 110, num = 11)],\n",
    "       'min_samples_split' : [2, 5, 10],\n",
    "       'min_samples_leaf' : [1, 2, 4],\n",
    "       'bootstrap' :[True, False]}\n",
    "\n",
    "rscv=RandomizedSearchCV(RFR_model,param_distributions=param,cv=5,n_iter=10,scoring='r2',n_jobs=-1)\n"
   ]
  },
  {
   "cell_type": "code",
   "execution_count": 113,
   "id": "715fd4ef",
   "metadata": {},
   "outputs": [
    {
     "data": {
      "text/plain": [
       "RandomizedSearchCV(cv=5, estimator=RandomForestRegressor(random_state=101),\n",
       "                   n_jobs=-1,\n",
       "                   param_distributions={'bootstrap': [True, False],\n",
       "                                        'max_depth': [10, 20, 30, 40, 50, 60,\n",
       "                                                      70, 80, 90, 100, 110],\n",
       "                                        'max_features': ['auto', 'sqrt'],\n",
       "                                        'min_samples_leaf': [1, 2, 4],\n",
       "                                        'min_samples_split': [2, 5, 10],\n",
       "                                        'n_estimators': [200, 400, 600, 800,\n",
       "                                                         1000, 1200, 1400, 1600,\n",
       "                                                         1800, 2000]},\n",
       "                   scoring='r2')"
      ]
     },
     "execution_count": 113,
     "metadata": {},
     "output_type": "execute_result"
    }
   ],
   "source": [
    "rscv.fit(x_train,y_train)"
   ]
  },
  {
   "cell_type": "code",
   "execution_count": 114,
   "id": "4613e991",
   "metadata": {},
   "outputs": [
    {
     "data": {
      "text/plain": [
       "RandomForestRegressor(max_depth=20, min_samples_leaf=4, n_estimators=1000,\n",
       "                      random_state=101)"
      ]
     },
     "execution_count": 114,
     "metadata": {},
     "output_type": "execute_result"
    }
   ],
   "source": [
    "rscv.best_estimator_"
   ]
  },
  {
   "cell_type": "code",
   "execution_count": 115,
   "id": "a06f33c3",
   "metadata": {},
   "outputs": [],
   "source": [
    "RFR=RandomForestRegressor(max_depth=20, min_samples_leaf=4, n_estimators=1000,\n",
    "                      random_state=101)\n",
    "RFR.fit(x_train,y_train)\n",
    "train_preds=RFR.predict(x_train)\n",
    "test_preds=RFR.predict(x_val)\n",
    "r2_train=r2_score(y_train,train_preds)\n",
    "r2_test=r2_score(y_val,test_preds)"
   ]
  },
  {
   "cell_type": "markdown",
   "id": "2ceb68b7",
   "metadata": {},
   "source": [
    "Now The Model will be trained on full data "
   ]
  },
  {
   "cell_type": "code",
   "execution_count": 118,
   "id": "7cb49dd6",
   "metadata": {},
   "outputs": [
    {
     "data": {
      "text/plain": [
       "RandomizedSearchCV(cv=5, estimator=RandomForestRegressor(random_state=101),\n",
       "                   n_jobs=-1,\n",
       "                   param_distributions={'bootstrap': [True, False],\n",
       "                                        'max_depth': [10, 20, 30, 40, 50, 60,\n",
       "                                                      70, 80, 90, 100, 110],\n",
       "                                        'max_features': ['auto', 'sqrt'],\n",
       "                                        'min_samples_leaf': [1, 2, 4],\n",
       "                                        'min_samples_split': [2, 5, 10],\n",
       "                                        'n_estimators': [200, 400, 600, 800,\n",
       "                                                         1000, 1200, 1400, 1600,\n",
       "                                                         1800, 2000]},\n",
       "                   scoring='r2')"
      ]
     },
     "execution_count": 118,
     "metadata": {},
     "output_type": "execute_result"
    }
   ],
   "source": [
    "rscv.fit(X,Y)"
   ]
  },
  {
   "cell_type": "code",
   "execution_count": 119,
   "id": "cbed254f",
   "metadata": {},
   "outputs": [
    {
     "data": {
      "text/plain": [
       "RandomForestRegressor(max_depth=100, min_samples_split=10, n_estimators=1200,\n",
       "                      random_state=101)"
      ]
     },
     "execution_count": 119,
     "metadata": {},
     "output_type": "execute_result"
    }
   ],
   "source": [
    "rscv.best_estimator_"
   ]
  },
  {
   "cell_type": "code",
   "execution_count": null,
   "id": "e1218271",
   "metadata": {},
   "outputs": [],
   "source": []
  },
  {
   "cell_type": "code",
   "execution_count": 123,
   "id": "bc18ecfb",
   "metadata": {},
   "outputs": [],
   "source": [
    "Rmodel=RandomForestRegressor(max_depth=100, min_samples_split=10, n_estimators=1200,\n",
    "                      random_state=101)\n",
    "Rmodel.fit(X,Y)\n",
    "Rpredictions=Rmodel.predict(Train_data.drop(columns=['Price']))\n",
    "submission=pd.DataFrame({'predictions':Rpredictions})\n",
    "submission.to_csv('submission.csv')"
   ]
  },
  {
   "cell_type": "code",
   "execution_count": 124,
   "id": "1a86478b",
   "metadata": {},
   "outputs": [
    {
     "data": {
      "text/html": [
       "<div>\n",
       "<style scoped>\n",
       "    .dataframe tbody tr th:only-of-type {\n",
       "        vertical-align: middle;\n",
       "    }\n",
       "\n",
       "    .dataframe tbody tr th {\n",
       "        vertical-align: top;\n",
       "    }\n",
       "\n",
       "    .dataframe thead th {\n",
       "        text-align: right;\n",
       "    }\n",
       "</style>\n",
       "<table border=\"1\" class=\"dataframe\">\n",
       "  <thead>\n",
       "    <tr style=\"text-align: right;\">\n",
       "      <th></th>\n",
       "      <th>predictions</th>\n",
       "    </tr>\n",
       "  </thead>\n",
       "  <tbody>\n",
       "    <tr>\n",
       "      <th>0</th>\n",
       "      <td>5105.088104</td>\n",
       "    </tr>\n",
       "    <tr>\n",
       "      <th>1</th>\n",
       "      <td>8086.900243</td>\n",
       "    </tr>\n",
       "    <tr>\n",
       "      <th>2</th>\n",
       "      <td>13936.267146</td>\n",
       "    </tr>\n",
       "    <tr>\n",
       "      <th>3</th>\n",
       "      <td>6285.387631</td>\n",
       "    </tr>\n",
       "    <tr>\n",
       "      <th>4</th>\n",
       "      <td>11271.117565</td>\n",
       "    </tr>\n",
       "    <tr>\n",
       "      <th>...</th>\n",
       "      <td>...</td>\n",
       "    </tr>\n",
       "    <tr>\n",
       "      <th>10654</th>\n",
       "      <td>4151.369609</td>\n",
       "    </tr>\n",
       "    <tr>\n",
       "      <th>10655</th>\n",
       "      <td>4439.727230</td>\n",
       "    </tr>\n",
       "    <tr>\n",
       "      <th>10656</th>\n",
       "      <td>7229.119265</td>\n",
       "    </tr>\n",
       "    <tr>\n",
       "      <th>10657</th>\n",
       "      <td>16476.570882</td>\n",
       "    </tr>\n",
       "    <tr>\n",
       "      <th>10658</th>\n",
       "      <td>12265.528165</td>\n",
       "    </tr>\n",
       "  </tbody>\n",
       "</table>\n",
       "<p>10659 rows × 1 columns</p>\n",
       "</div>"
      ],
      "text/plain": [
       "        predictions\n",
       "0       5105.088104\n",
       "1       8086.900243\n",
       "2      13936.267146\n",
       "3       6285.387631\n",
       "4      11271.117565\n",
       "...             ...\n",
       "10654   4151.369609\n",
       "10655   4439.727230\n",
       "10656   7229.119265\n",
       "10657  16476.570882\n",
       "10658  12265.528165\n",
       "\n",
       "[10659 rows x 1 columns]"
      ]
     },
     "execution_count": 124,
     "metadata": {},
     "output_type": "execute_result"
    }
   ],
   "source": [
    "submission"
   ]
  },
  {
   "cell_type": "code",
   "execution_count": null,
   "id": "ae3f76ae",
   "metadata": {},
   "outputs": [],
   "source": []
  }
 ],
 "metadata": {
  "kernelspec": {
   "display_name": "Python 3",
   "language": "python",
   "name": "python3"
  },
  "language_info": {
   "codemirror_mode": {
    "name": "ipython",
    "version": 3
   },
   "file_extension": ".py",
   "mimetype": "text/x-python",
   "name": "python",
   "nbconvert_exporter": "python",
   "pygments_lexer": "ipython3",
   "version": "3.8.8"
  }
 },
 "nbformat": 4,
 "nbformat_minor": 5
}
